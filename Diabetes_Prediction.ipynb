{
  "nbformat": 4,
  "nbformat_minor": 0,
  "metadata": {
    "colab": {
      "name": "Diabetes_Prediction.ipynb",
      "provenance": [],
      "collapsed_sections": []
    },
    "kernelspec": {
      "display_name": "Python 3",
      "name": "python3"
    },
    "language_info": {
      "name": "python"
    }
  },
  "cells": [
    {
      "cell_type": "markdown",
      "metadata": {
        "id": "8Uo9jm4Jj5J6"
      },
      "source": [
        "Importing the Dependencies"
      ]
    },
    {
      "cell_type": "code",
      "metadata": {
        "id": "fbp0fTdMkW3G"
      },
      "source": [
        "import numpy as np\n",
        "import pandas as pd\n",
        "import matplotlib.pyplot as plt\n",
        "from sklearn.model_selection import train_test_split\n",
        "from sklearn import svm\n",
        "from sklearn.svm import SVC\n",
        "from sklearn.preprocessing import StandardScaler\n",
        "from sklearn.metrics import accuracy_score\n",
        "from sklearn.metrics import f1_score\n",
        "import pickle"
      ],
      "execution_count": null,
      "outputs": []
    },
    {
      "cell_type": "markdown",
      "metadata": {
        "id": "JVVBT4yhk9Mh"
      },
      "source": [
        "# Data Collection & Analysis"
      ]
    },
    {
      "cell_type": "markdown",
      "metadata": {
        "id": "lL0fG9yElBq9"
      },
      "source": [
        "PIMA Diabetes Dataset"
      ]
    },
    {
      "cell_type": "code",
      "metadata": {
        "colab": {
          "resources": {
            "http://localhost:8080/nbextensions/google.colab/files.js": {
              "data": "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",
              "ok": true,
              "headers": [
                [
                  "content-type",
                  "application/javascript"
                ]
              ],
              "status": 200,
              "status_text": ""
            }
          },
          "base_uri": "https://localhost:8080/",
          "height": 74
        },
        "id": "-EHsz646v4g1",
        "outputId": "e7817824-dcd9-4c06-c116-c7f3b4272b7b"
      },
      "source": [
        "from google.colab import files\n",
        "uploaded = files.upload()"
      ],
      "execution_count": null,
      "outputs": [
        {
          "output_type": "display_data",
          "data": {
            "text/html": [
              "\n",
              "     <input type=\"file\" id=\"files-38ff7f97-9418-42a8-87f1-b12ccb7151ce\" name=\"files[]\" multiple disabled\n",
              "        style=\"border:none\" />\n",
              "     <output id=\"result-38ff7f97-9418-42a8-87f1-b12ccb7151ce\">\n",
              "      Upload widget is only available when the cell has been executed in the\n",
              "      current browser session. Please rerun this cell to enable.\n",
              "      </output>\n",
              "      <script src=\"/nbextensions/google.colab/files.js\"></script> "
            ],
            "text/plain": [
              "<IPython.core.display.HTML object>"
            ]
          },
          "metadata": {}
        },
        {
          "output_type": "stream",
          "name": "stdout",
          "text": [
            "Saving diabetes.csv to diabetes (1).csv\n"
          ]
        }
      ]
    },
    {
      "cell_type": "code",
      "metadata": {
        "id": "3_cyJXj0lLdt",
        "colab": {
          "base_uri": "https://localhost:8080/"
        },
        "outputId": "00533f50-4dd9-4b68-d997-f6f788139105"
      },
      "source": [
        "# Loading the Diabetes Dataset into Pandas Dataframe \n",
        "data = pd.read_csv('diabetes.csv')\n",
        "data.info()"
      ],
      "execution_count": null,
      "outputs": [
        {
          "output_type": "stream",
          "name": "stdout",
          "text": [
            "<class 'pandas.core.frame.DataFrame'>\n",
            "RangeIndex: 768 entries, 0 to 767\n",
            "Data columns (total 9 columns):\n",
            " #   Column        Non-Null Count  Dtype  \n",
            "---  ------        --------------  -----  \n",
            " 0   num_preg      768 non-null    int64  \n",
            " 1   glucose_conc  768 non-null    int64  \n",
            " 2   diastolic_bp  768 non-null    int64  \n",
            " 3   thickness     768 non-null    int64  \n",
            " 4   insulin       768 non-null    int64  \n",
            " 5   bmi           768 non-null    float64\n",
            " 6   diab_pred     768 non-null    float64\n",
            " 7   age           768 non-null    int64  \n",
            " 8   diabetes      768 non-null    int64  \n",
            "dtypes: float64(2), int64(7)\n",
            "memory usage: 54.1 KB\n"
          ]
        }
      ]
    },
    {
      "cell_type": "code",
      "metadata": {
        "colab": {
          "base_uri": "https://localhost:8080/",
          "height": 206
        },
        "id": "oDrxO0doweZ7",
        "outputId": "3e004fa1-244e-4c35-e3bb-6ca822343c3d"
      },
      "source": [
        "# Printing First 5 Rows Of The Data\n",
        "data.head()"
      ],
      "execution_count": null,
      "outputs": [
        {
          "output_type": "execute_result",
          "data": {
            "text/html": [
              "<div>\n",
              "<style scoped>\n",
              "    .dataframe tbody tr th:only-of-type {\n",
              "        vertical-align: middle;\n",
              "    }\n",
              "\n",
              "    .dataframe tbody tr th {\n",
              "        vertical-align: top;\n",
              "    }\n",
              "\n",
              "    .dataframe thead th {\n",
              "        text-align: right;\n",
              "    }\n",
              "</style>\n",
              "<table border=\"1\" class=\"dataframe\">\n",
              "  <thead>\n",
              "    <tr style=\"text-align: right;\">\n",
              "      <th></th>\n",
              "      <th>num_preg</th>\n",
              "      <th>glucose_conc</th>\n",
              "      <th>diastolic_bp</th>\n",
              "      <th>thickness</th>\n",
              "      <th>insulin</th>\n",
              "      <th>bmi</th>\n",
              "      <th>diab_pred</th>\n",
              "      <th>age</th>\n",
              "      <th>diabetes</th>\n",
              "    </tr>\n",
              "  </thead>\n",
              "  <tbody>\n",
              "    <tr>\n",
              "      <th>0</th>\n",
              "      <td>6</td>\n",
              "      <td>148</td>\n",
              "      <td>72</td>\n",
              "      <td>35</td>\n",
              "      <td>0</td>\n",
              "      <td>33.6</td>\n",
              "      <td>0.627</td>\n",
              "      <td>50</td>\n",
              "      <td>1</td>\n",
              "    </tr>\n",
              "    <tr>\n",
              "      <th>1</th>\n",
              "      <td>1</td>\n",
              "      <td>85</td>\n",
              "      <td>66</td>\n",
              "      <td>29</td>\n",
              "      <td>0</td>\n",
              "      <td>26.6</td>\n",
              "      <td>0.351</td>\n",
              "      <td>31</td>\n",
              "      <td>0</td>\n",
              "    </tr>\n",
              "    <tr>\n",
              "      <th>2</th>\n",
              "      <td>8</td>\n",
              "      <td>183</td>\n",
              "      <td>64</td>\n",
              "      <td>0</td>\n",
              "      <td>0</td>\n",
              "      <td>23.3</td>\n",
              "      <td>0.672</td>\n",
              "      <td>32</td>\n",
              "      <td>1</td>\n",
              "    </tr>\n",
              "    <tr>\n",
              "      <th>3</th>\n",
              "      <td>1</td>\n",
              "      <td>89</td>\n",
              "      <td>66</td>\n",
              "      <td>23</td>\n",
              "      <td>94</td>\n",
              "      <td>28.1</td>\n",
              "      <td>0.167</td>\n",
              "      <td>21</td>\n",
              "      <td>0</td>\n",
              "    </tr>\n",
              "    <tr>\n",
              "      <th>4</th>\n",
              "      <td>0</td>\n",
              "      <td>137</td>\n",
              "      <td>40</td>\n",
              "      <td>35</td>\n",
              "      <td>168</td>\n",
              "      <td>43.1</td>\n",
              "      <td>2.288</td>\n",
              "      <td>33</td>\n",
              "      <td>1</td>\n",
              "    </tr>\n",
              "  </tbody>\n",
              "</table>\n",
              "</div>"
            ],
            "text/plain": [
              "   num_preg  glucose_conc  diastolic_bp  ...  diab_pred  age  diabetes\n",
              "0         6           148            72  ...      0.627   50         1\n",
              "1         1            85            66  ...      0.351   31         0\n",
              "2         8           183            64  ...      0.672   32         1\n",
              "3         1            89            66  ...      0.167   21         0\n",
              "4         0           137            40  ...      2.288   33         1\n",
              "\n",
              "[5 rows x 9 columns]"
            ]
          },
          "metadata": {},
          "execution_count": 4
        }
      ]
    },
    {
      "cell_type": "code",
      "metadata": {
        "colab": {
          "base_uri": "https://localhost:8080/",
          "height": 206
        },
        "id": "1_9iPvE8xSIt",
        "outputId": "838428f3-76a1-46fc-88a2-a9be47b17fad"
      },
      "source": [
        "# Printing Last 5 Rows Of The Dataset\n",
        "data.tail()"
      ],
      "execution_count": null,
      "outputs": [
        {
          "output_type": "execute_result",
          "data": {
            "text/html": [
              "<div>\n",
              "<style scoped>\n",
              "    .dataframe tbody tr th:only-of-type {\n",
              "        vertical-align: middle;\n",
              "    }\n",
              "\n",
              "    .dataframe tbody tr th {\n",
              "        vertical-align: top;\n",
              "    }\n",
              "\n",
              "    .dataframe thead th {\n",
              "        text-align: right;\n",
              "    }\n",
              "</style>\n",
              "<table border=\"1\" class=\"dataframe\">\n",
              "  <thead>\n",
              "    <tr style=\"text-align: right;\">\n",
              "      <th></th>\n",
              "      <th>num_preg</th>\n",
              "      <th>glucose_conc</th>\n",
              "      <th>diastolic_bp</th>\n",
              "      <th>thickness</th>\n",
              "      <th>insulin</th>\n",
              "      <th>bmi</th>\n",
              "      <th>diab_pred</th>\n",
              "      <th>age</th>\n",
              "      <th>diabetes</th>\n",
              "    </tr>\n",
              "  </thead>\n",
              "  <tbody>\n",
              "    <tr>\n",
              "      <th>763</th>\n",
              "      <td>10</td>\n",
              "      <td>101</td>\n",
              "      <td>76</td>\n",
              "      <td>48</td>\n",
              "      <td>180</td>\n",
              "      <td>32.9</td>\n",
              "      <td>0.171</td>\n",
              "      <td>63</td>\n",
              "      <td>0</td>\n",
              "    </tr>\n",
              "    <tr>\n",
              "      <th>764</th>\n",
              "      <td>2</td>\n",
              "      <td>122</td>\n",
              "      <td>70</td>\n",
              "      <td>27</td>\n",
              "      <td>0</td>\n",
              "      <td>36.8</td>\n",
              "      <td>0.340</td>\n",
              "      <td>27</td>\n",
              "      <td>0</td>\n",
              "    </tr>\n",
              "    <tr>\n",
              "      <th>765</th>\n",
              "      <td>5</td>\n",
              "      <td>121</td>\n",
              "      <td>72</td>\n",
              "      <td>23</td>\n",
              "      <td>112</td>\n",
              "      <td>26.2</td>\n",
              "      <td>0.245</td>\n",
              "      <td>30</td>\n",
              "      <td>0</td>\n",
              "    </tr>\n",
              "    <tr>\n",
              "      <th>766</th>\n",
              "      <td>1</td>\n",
              "      <td>126</td>\n",
              "      <td>60</td>\n",
              "      <td>0</td>\n",
              "      <td>0</td>\n",
              "      <td>30.1</td>\n",
              "      <td>0.349</td>\n",
              "      <td>47</td>\n",
              "      <td>1</td>\n",
              "    </tr>\n",
              "    <tr>\n",
              "      <th>767</th>\n",
              "      <td>1</td>\n",
              "      <td>93</td>\n",
              "      <td>70</td>\n",
              "      <td>31</td>\n",
              "      <td>0</td>\n",
              "      <td>30.4</td>\n",
              "      <td>0.315</td>\n",
              "      <td>23</td>\n",
              "      <td>0</td>\n",
              "    </tr>\n",
              "  </tbody>\n",
              "</table>\n",
              "</div>"
            ],
            "text/plain": [
              "     num_preg  glucose_conc  diastolic_bp  ...  diab_pred  age  diabetes\n",
              "763        10           101            76  ...      0.171   63         0\n",
              "764         2           122            70  ...      0.340   27         0\n",
              "765         5           121            72  ...      0.245   30         0\n",
              "766         1           126            60  ...      0.349   47         1\n",
              "767         1            93            70  ...      0.315   23         0\n",
              "\n",
              "[5 rows x 9 columns]"
            ]
          },
          "metadata": {},
          "execution_count": 5
        }
      ]
    },
    {
      "cell_type": "code",
      "metadata": {
        "colab": {
          "base_uri": "https://localhost:8080/"
        },
        "id": "Qi7Iuh3MytOj",
        "outputId": "53cc37bb-54a9-46bf-e477-9528a1d748c8"
      },
      "source": [
        "# No. of Rows & Columns in the Dataset\n",
        "data.shape"
      ],
      "execution_count": null,
      "outputs": [
        {
          "output_type": "execute_result",
          "data": {
            "text/plain": [
              "(768, 9)"
            ]
          },
          "metadata": {},
          "execution_count": 6
        }
      ]
    },
    {
      "cell_type": "code",
      "metadata": {
        "colab": {
          "base_uri": "https://localhost:8080/",
          "height": 300
        },
        "id": "Ijc6Ald3y68p",
        "outputId": "fb53cc3c-9b1d-4933-d124-af8aba3bc575"
      },
      "source": [
        "# Statistical Measures Of Dataset\n",
        "data.describe()"
      ],
      "execution_count": null,
      "outputs": [
        {
          "output_type": "execute_result",
          "data": {
            "text/html": [
              "<div>\n",
              "<style scoped>\n",
              "    .dataframe tbody tr th:only-of-type {\n",
              "        vertical-align: middle;\n",
              "    }\n",
              "\n",
              "    .dataframe tbody tr th {\n",
              "        vertical-align: top;\n",
              "    }\n",
              "\n",
              "    .dataframe thead th {\n",
              "        text-align: right;\n",
              "    }\n",
              "</style>\n",
              "<table border=\"1\" class=\"dataframe\">\n",
              "  <thead>\n",
              "    <tr style=\"text-align: right;\">\n",
              "      <th></th>\n",
              "      <th>num_preg</th>\n",
              "      <th>glucose_conc</th>\n",
              "      <th>diastolic_bp</th>\n",
              "      <th>thickness</th>\n",
              "      <th>insulin</th>\n",
              "      <th>bmi</th>\n",
              "      <th>diab_pred</th>\n",
              "      <th>age</th>\n",
              "      <th>diabetes</th>\n",
              "    </tr>\n",
              "  </thead>\n",
              "  <tbody>\n",
              "    <tr>\n",
              "      <th>count</th>\n",
              "      <td>768.000000</td>\n",
              "      <td>768.000000</td>\n",
              "      <td>768.000000</td>\n",
              "      <td>768.000000</td>\n",
              "      <td>768.000000</td>\n",
              "      <td>768.000000</td>\n",
              "      <td>768.000000</td>\n",
              "      <td>768.000000</td>\n",
              "      <td>768.000000</td>\n",
              "    </tr>\n",
              "    <tr>\n",
              "      <th>mean</th>\n",
              "      <td>3.845052</td>\n",
              "      <td>120.894531</td>\n",
              "      <td>69.105469</td>\n",
              "      <td>20.536458</td>\n",
              "      <td>79.799479</td>\n",
              "      <td>31.992578</td>\n",
              "      <td>0.471876</td>\n",
              "      <td>33.240885</td>\n",
              "      <td>0.348958</td>\n",
              "    </tr>\n",
              "    <tr>\n",
              "      <th>std</th>\n",
              "      <td>3.369578</td>\n",
              "      <td>31.972618</td>\n",
              "      <td>19.355807</td>\n",
              "      <td>15.952218</td>\n",
              "      <td>115.244002</td>\n",
              "      <td>7.884160</td>\n",
              "      <td>0.331329</td>\n",
              "      <td>11.760232</td>\n",
              "      <td>0.476951</td>\n",
              "    </tr>\n",
              "    <tr>\n",
              "      <th>min</th>\n",
              "      <td>0.000000</td>\n",
              "      <td>0.000000</td>\n",
              "      <td>0.000000</td>\n",
              "      <td>0.000000</td>\n",
              "      <td>0.000000</td>\n",
              "      <td>0.000000</td>\n",
              "      <td>0.078000</td>\n",
              "      <td>21.000000</td>\n",
              "      <td>0.000000</td>\n",
              "    </tr>\n",
              "    <tr>\n",
              "      <th>25%</th>\n",
              "      <td>1.000000</td>\n",
              "      <td>99.000000</td>\n",
              "      <td>62.000000</td>\n",
              "      <td>0.000000</td>\n",
              "      <td>0.000000</td>\n",
              "      <td>27.300000</td>\n",
              "      <td>0.243750</td>\n",
              "      <td>24.000000</td>\n",
              "      <td>0.000000</td>\n",
              "    </tr>\n",
              "    <tr>\n",
              "      <th>50%</th>\n",
              "      <td>3.000000</td>\n",
              "      <td>117.000000</td>\n",
              "      <td>72.000000</td>\n",
              "      <td>23.000000</td>\n",
              "      <td>30.500000</td>\n",
              "      <td>32.000000</td>\n",
              "      <td>0.372500</td>\n",
              "      <td>29.000000</td>\n",
              "      <td>0.000000</td>\n",
              "    </tr>\n",
              "    <tr>\n",
              "      <th>75%</th>\n",
              "      <td>6.000000</td>\n",
              "      <td>140.250000</td>\n",
              "      <td>80.000000</td>\n",
              "      <td>32.000000</td>\n",
              "      <td>127.250000</td>\n",
              "      <td>36.600000</td>\n",
              "      <td>0.626250</td>\n",
              "      <td>41.000000</td>\n",
              "      <td>1.000000</td>\n",
              "    </tr>\n",
              "    <tr>\n",
              "      <th>max</th>\n",
              "      <td>17.000000</td>\n",
              "      <td>199.000000</td>\n",
              "      <td>122.000000</td>\n",
              "      <td>99.000000</td>\n",
              "      <td>846.000000</td>\n",
              "      <td>67.100000</td>\n",
              "      <td>2.420000</td>\n",
              "      <td>81.000000</td>\n",
              "      <td>1.000000</td>\n",
              "    </tr>\n",
              "  </tbody>\n",
              "</table>\n",
              "</div>"
            ],
            "text/plain": [
              "         num_preg  glucose_conc  ...         age    diabetes\n",
              "count  768.000000    768.000000  ...  768.000000  768.000000\n",
              "mean     3.845052    120.894531  ...   33.240885    0.348958\n",
              "std      3.369578     31.972618  ...   11.760232    0.476951\n",
              "min      0.000000      0.000000  ...   21.000000    0.000000\n",
              "25%      1.000000     99.000000  ...   24.000000    0.000000\n",
              "50%      3.000000    117.000000  ...   29.000000    0.000000\n",
              "75%      6.000000    140.250000  ...   41.000000    1.000000\n",
              "max     17.000000    199.000000  ...   81.000000    1.000000\n",
              "\n",
              "[8 rows x 9 columns]"
            ]
          },
          "metadata": {},
          "execution_count": 7
        }
      ]
    },
    {
      "cell_type": "code",
      "metadata": {
        "colab": {
          "base_uri": "https://localhost:8080/",
          "height": 270
        },
        "id": "jrFJmkRZzFed",
        "outputId": "b98a2705-dc94-4b03-89c2-e0cc39337f40"
      },
      "source": [
        "# check if any null value is present\n",
        "import seaborn as sns\n",
        "c = sns.heatmap(data.isnull().values)\n"
      ],
      "execution_count": null,
      "outputs": [
        {
          "output_type": "display_data",
          "data": {
            "image/png": "[encoded data removed]",
            "text/plain": [
              "<Figure size 432x288 with 2 Axes>"
            ]
          },
          "metadata": {
            "needs_background": "light"
          }
        }
      ]
    },
    {
      "cell_type": "code",
      "metadata": {
        "colab": {
          "base_uri": "https://localhost:8080/",
          "height": 1000
        },
        "id": "kIaKYZ7J0mX5",
        "outputId": "8de226bf-d1e4-40d4-e7bc-0c619328e775"
      },
      "source": [
        "## Correlation\n",
        "import seaborn as sns\n",
        "import matplotlib.pyplot as plt\n",
        "#get correlations of each features in dataset\n",
        "corrmat = data.corr()\n",
        "top_corr_features = corrmat.index\n",
        "plt.figure(figsize=(20,20))\n",
        "#plot heat map\n",
        "g=sns.heatmap(data[top_corr_features].corr(),annot=True,cmap=\"RdYlGn\")"
      ],
      "execution_count": null,
      "outputs": [
        {
          "output_type": "display_data",
          "data": {
            "image/png": "[encoded data removed]",
            "text/plain": [
              "<Figure size 1440x1440 with 2 Axes>"
            ]
          },
          "metadata": {
            "needs_background": "light"
          }
        }
      ]
    },
    {
      "cell_type": "code",
      "metadata": {
        "colab": {
          "base_uri": "https://localhost:8080/",
          "height": 331
        },
        "id": "bA8DmG5e0o7Y",
        "outputId": "d4486203-4d25-45c6-b1f8-72f98278c721"
      },
      "source": [
        "data.corr()"
      ],
      "execution_count": null,
      "outputs": [
        {
          "output_type": "execute_result",
          "data": {
            "text/html": [
              "<div>\n",
              "<style scoped>\n",
              "    .dataframe tbody tr th:only-of-type {\n",
              "        vertical-align: middle;\n",
              "    }\n",
              "\n",
              "    .dataframe tbody tr th {\n",
              "        vertical-align: top;\n",
              "    }\n",
              "\n",
              "    .dataframe thead th {\n",
              "        text-align: right;\n",
              "    }\n",
              "</style>\n",
              "<table border=\"1\" class=\"dataframe\">\n",
              "  <thead>\n",
              "    <tr style=\"text-align: right;\">\n",
              "      <th></th>\n",
              "      <th>num_preg</th>\n",
              "      <th>glucose_conc</th>\n",
              "      <th>diastolic_bp</th>\n",
              "      <th>thickness</th>\n",
              "      <th>insulin</th>\n",
              "      <th>bmi</th>\n",
              "      <th>diab_pred</th>\n",
              "      <th>age</th>\n",
              "      <th>diabetes</th>\n",
              "    </tr>\n",
              "  </thead>\n",
              "  <tbody>\n",
              "    <tr>\n",
              "      <th>num_preg</th>\n",
              "      <td>1.000000</td>\n",
              "      <td>0.129459</td>\n",
              "      <td>0.141282</td>\n",
              "      <td>-0.081672</td>\n",
              "      <td>-0.073535</td>\n",
              "      <td>0.017683</td>\n",
              "      <td>-0.033523</td>\n",
              "      <td>0.544341</td>\n",
              "      <td>0.221898</td>\n",
              "    </tr>\n",
              "    <tr>\n",
              "      <th>glucose_conc</th>\n",
              "      <td>0.129459</td>\n",
              "      <td>1.000000</td>\n",
              "      <td>0.152590</td>\n",
              "      <td>0.057328</td>\n",
              "      <td>0.331357</td>\n",
              "      <td>0.221071</td>\n",
              "      <td>0.137337</td>\n",
              "      <td>0.263514</td>\n",
              "      <td>0.466581</td>\n",
              "    </tr>\n",
              "    <tr>\n",
              "      <th>diastolic_bp</th>\n",
              "      <td>0.141282</td>\n",
              "      <td>0.152590</td>\n",
              "      <td>1.000000</td>\n",
              "      <td>0.207371</td>\n",
              "      <td>0.088933</td>\n",
              "      <td>0.281805</td>\n",
              "      <td>0.041265</td>\n",
              "      <td>0.239528</td>\n",
              "      <td>0.065068</td>\n",
              "    </tr>\n",
              "    <tr>\n",
              "      <th>thickness</th>\n",
              "      <td>-0.081672</td>\n",
              "      <td>0.057328</td>\n",
              "      <td>0.207371</td>\n",
              "      <td>1.000000</td>\n",
              "      <td>0.436783</td>\n",
              "      <td>0.392573</td>\n",
              "      <td>0.183928</td>\n",
              "      <td>-0.113970</td>\n",
              "      <td>0.074752</td>\n",
              "    </tr>\n",
              "    <tr>\n",
              "      <th>insulin</th>\n",
              "      <td>-0.073535</td>\n",
              "      <td>0.331357</td>\n",
              "      <td>0.088933</td>\n",
              "      <td>0.436783</td>\n",
              "      <td>1.000000</td>\n",
              "      <td>0.197859</td>\n",
              "      <td>0.185071</td>\n",
              "      <td>-0.042163</td>\n",
              "      <td>0.130548</td>\n",
              "    </tr>\n",
              "    <tr>\n",
              "      <th>bmi</th>\n",
              "      <td>0.017683</td>\n",
              "      <td>0.221071</td>\n",
              "      <td>0.281805</td>\n",
              "      <td>0.392573</td>\n",
              "      <td>0.197859</td>\n",
              "      <td>1.000000</td>\n",
              "      <td>0.140647</td>\n",
              "      <td>0.036242</td>\n",
              "      <td>0.292695</td>\n",
              "    </tr>\n",
              "    <tr>\n",
              "      <th>diab_pred</th>\n",
              "      <td>-0.033523</td>\n",
              "      <td>0.137337</td>\n",
              "      <td>0.041265</td>\n",
              "      <td>0.183928</td>\n",
              "      <td>0.185071</td>\n",
              "      <td>0.140647</td>\n",
              "      <td>1.000000</td>\n",
              "      <td>0.033561</td>\n",
              "      <td>0.173844</td>\n",
              "    </tr>\n",
              "    <tr>\n",
              "      <th>age</th>\n",
              "      <td>0.544341</td>\n",
              "      <td>0.263514</td>\n",
              "      <td>0.239528</td>\n",
              "      <td>-0.113970</td>\n",
              "      <td>-0.042163</td>\n",
              "      <td>0.036242</td>\n",
              "      <td>0.033561</td>\n",
              "      <td>1.000000</td>\n",
              "      <td>0.238356</td>\n",
              "    </tr>\n",
              "    <tr>\n",
              "      <th>diabetes</th>\n",
              "      <td>0.221898</td>\n",
              "      <td>0.466581</td>\n",
              "      <td>0.065068</td>\n",
              "      <td>0.074752</td>\n",
              "      <td>0.130548</td>\n",
              "      <td>0.292695</td>\n",
              "      <td>0.173844</td>\n",
              "      <td>0.238356</td>\n",
              "      <td>1.000000</td>\n",
              "    </tr>\n",
              "  </tbody>\n",
              "</table>\n",
              "</div>"
            ],
            "text/plain": [
              "              num_preg  glucose_conc  ...       age  diabetes\n",
              "num_preg      1.000000      0.129459  ...  0.544341  0.221898\n",
              "glucose_conc  0.129459      1.000000  ...  0.263514  0.466581\n",
              "diastolic_bp  0.141282      0.152590  ...  0.239528  0.065068\n",
              "thickness    -0.081672      0.057328  ... -0.113970  0.074752\n",
              "insulin      -0.073535      0.331357  ... -0.042163  0.130548\n",
              "bmi           0.017683      0.221071  ...  0.036242  0.292695\n",
              "diab_pred    -0.033523      0.137337  ...  0.033561  0.173844\n",
              "age           0.544341      0.263514  ...  1.000000  0.238356\n",
              "diabetes      0.221898      0.466581  ...  0.238356  1.000000\n",
              "\n",
              "[9 rows x 9 columns]"
            ]
          },
          "metadata": {},
          "execution_count": 10
        }
      ]
    },
    {
      "cell_type": "code",
      "metadata": {
        "colab": {
          "base_uri": "https://localhost:8080/",
          "height": 296
        },
        "id": "yM8VhSY1xFUR",
        "outputId": "429cc9b3-e7e0-4fab-ae1a-11945cb25cce"
      },
      "source": [
        "data['num_preg'].hist()\n",
        "plt.xlabel('No. Of Pregnancies')\n",
        "plt.ylabel('No of People')"
      ],
      "execution_count": null,
      "outputs": [
        {
          "output_type": "execute_result",
          "data": {
            "text/plain": [
              "Text(0, 0.5, 'No of People')"
            ]
          },
          "metadata": {},
          "execution_count": 11
        },
        {
          "output_type": "display_data",
          "data": {
            "image/png": "[encoded data removed]",
            "text/plain": [
              "<Figure size 432x288 with 1 Axes>"
            ]
          },
          "metadata": {
            "needs_background": "light"
          }
        }
      ]
    },
    {
      "cell_type": "code",
      "metadata": {
        "colab": {
          "base_uri": "https://localhost:8080/",
          "height": 296
        },
        "id": "msrfrohpHrRl",
        "outputId": "0f5e59e4-a5fd-4a0e-e2f1-ab2c4c3383b4"
      },
      "source": [
        "data['glucose_conc'].hist()\n",
        "plt.xlabel('Glucose')\n",
        "plt.ylabel('No of People')"
      ],
      "execution_count": null,
      "outputs": [
        {
          "output_type": "execute_result",
          "data": {
            "text/plain": [
              "Text(0, 0.5, 'No of People')"
            ]
          },
          "metadata": {},
          "execution_count": 12
        },
        {
          "output_type": "display_data",
          "data": {
            "image/png": "[encoded data removed]",
            "text/plain": [
              "<Figure size 432x288 with 1 Axes>"
            ]
          },
          "metadata": {
            "needs_background": "light"
          }
        }
      ]
    },
    {
      "cell_type": "code",
      "metadata": {
        "colab": {
          "base_uri": "https://localhost:8080/",
          "height": 296
        },
        "id": "_ZbpRQ7gyqzu",
        "outputId": "d4b1afa7-5f7d-403b-a28d-e3eb03b9545f"
      },
      "source": [
        "data['diastolic_bp'].hist()\n",
        "plt.xlabel('Blood Pressure')\n",
        "plt.ylabel('No of People')"
      ],
      "execution_count": null,
      "outputs": [
        {
          "output_type": "execute_result",
          "data": {
            "text/plain": [
              "Text(0, 0.5, 'No of People')"
            ]
          },
          "metadata": {},
          "execution_count": 13
        },
        {
          "output_type": "display_data",
          "data": {
            "image/png": "[encoded data removed]",
            "text/plain": [
              "<Figure size 432x288 with 1 Axes>"
            ]
          },
          "metadata": {
            "needs_background": "light"
          }
        }
      ]
    },
    {
      "cell_type": "code",
      "metadata": {
        "colab": {
          "base_uri": "https://localhost:8080/",
          "height": 296
        },
        "id": "FCfIX5zLyzvV",
        "outputId": "e560ae9f-0160-4c85-c313-8c989ed690fb"
      },
      "source": [
        "data['thickness'].hist()\n",
        "plt.xlabel('Thickness')\n",
        "plt.ylabel('No of People')"
      ],
      "execution_count": null,
      "outputs": [
        {
          "output_type": "execute_result",
          "data": {
            "text/plain": [
              "Text(0, 0.5, 'No of People')"
            ]
          },
          "metadata": {},
          "execution_count": 14
        },
        {
          "output_type": "display_data",
          "data": {
            "image/png": "[encoded data removed]",
            "text/plain": [
              "<Figure size 432x288 with 1 Axes>"
            ]
          },
          "metadata": {
            "needs_background": "light"
          }
        }
      ]
    },
    {
      "cell_type": "code",
      "metadata": {
        "colab": {
          "base_uri": "https://localhost:8080/",
          "height": 296
        },
        "id": "49WOkdIFyRlm",
        "outputId": "4b113a4a-e4c9-41f2-c9ee-382623c49326"
      },
      "source": [
        "data['insulin'].hist()\n",
        "plt.xlabel('Insulin')\n",
        "plt.ylabel('No of People')"
      ],
      "execution_count": null,
      "outputs": [
        {
          "output_type": "execute_result",
          "data": {
            "text/plain": [
              "Text(0, 0.5, 'No of People')"
            ]
          },
          "metadata": {},
          "execution_count": 15
        },
        {
          "output_type": "display_data",
          "data": {
            "image/png": "[encoded data removed]",
            "text/plain": [
              "<Figure size 432x288 with 1 Axes>"
            ]
          },
          "metadata": {
            "needs_background": "light"
          }
        }
      ]
    },
    {
      "cell_type": "code",
      "metadata": {
        "colab": {
          "base_uri": "https://localhost:8080/",
          "height": 296
        },
        "id": "xjGgAZ5xy9uf",
        "outputId": "3222f6f4-8e1a-46b1-9d07-bb64772afd1d"
      },
      "source": [
        "data['diab_pred'].hist()\n",
        "plt.xlabel('Diabetes Pedigree Function')\n",
        "plt.ylabel('No of People')"
      ],
      "execution_count": null,
      "outputs": [
        {
          "output_type": "execute_result",
          "data": {
            "text/plain": [
              "Text(0, 0.5, 'No of People')"
            ]
          },
          "metadata": {},
          "execution_count": 16
        },
        {
          "output_type": "display_data",
          "data": {
            "image/png": "[encoded data removed]",
            "text/plain": [
              "<Figure size 432x288 with 1 Axes>"
            ]
          },
          "metadata": {
            "needs_background": "light"
          }
        }
      ]
    },
    {
      "cell_type": "code",
      "metadata": {
        "colab": {
          "base_uri": "https://localhost:8080/",
          "height": 296
        },
        "id": "me-Zn-bVy_ig",
        "outputId": "d14496fc-a19c-4988-e4e1-b92227eb9008"
      },
      "source": [
        "data['bmi'].hist()\n",
        "plt.xlabel('BMI')\n",
        "plt.ylabel('No of People')"
      ],
      "execution_count": null,
      "outputs": [
        {
          "output_type": "execute_result",
          "data": {
            "text/plain": [
              "Text(0, 0.5, 'No of People')"
            ]
          },
          "metadata": {},
          "execution_count": 17
        },
        {
          "output_type": "display_data",
          "data": {
            "image/png": "[encoded data removed]",
            "text/plain": [
              "<Figure size 432x288 with 1 Axes>"
            ]
          },
          "metadata": {
            "needs_background": "light"
          }
        }
      ]
    },
    {
      "cell_type": "code",
      "metadata": {
        "colab": {
          "base_uri": "https://localhost:8080/",
          "height": 296
        },
        "id": "7ietxtyBzAHY",
        "outputId": "75570ed3-bfa2-42cb-8286-4762e7c8d114"
      },
      "source": [
        "data['age'].hist()\n",
        "plt.xlabel('Age')\n",
        "plt.ylabel('No of People')"
      ],
      "execution_count": null,
      "outputs": [
        {
          "output_type": "execute_result",
          "data": {
            "text/plain": [
              "Text(0, 0.5, 'No of People')"
            ]
          },
          "metadata": {},
          "execution_count": 18
        },
        {
          "output_type": "display_data",
          "data": {
            "image/png": "[encoded data removed]",
            "text/plain": [
              "<Figure size 432x288 with 1 Axes>"
            ]
          },
          "metadata": {
            "needs_background": "light"
          }
        }
      ]
    },
    {
      "cell_type": "code",
      "metadata": {
        "id": "-WOKrrndxeNe",
        "colab": {
          "base_uri": "https://localhost:8080/",
          "height": 282
        },
        "outputId": "01ca42dd-9f18-4b8a-ff2a-06ad7691f31f"
      },
      "source": [
        "data['glucose_conc'].hist()"
      ],
      "execution_count": null,
      "outputs": [
        {
          "output_type": "execute_result",
          "data": {
            "text/plain": [
              "<matplotlib.axes._subplots.AxesSubplot at 0x7ff36eb70990>"
            ]
          },
          "metadata": {},
          "execution_count": 19
        },
        {
          "output_type": "display_data",
          "data": {
            "image/png": "[encoded data removed]",
            "text/plain": [
              "<Figure size 432x288 with 1 Axes>"
            ]
          },
          "metadata": {
            "needs_background": "light"
          }
        }
      ]
    },
    {
      "cell_type": "code",
      "metadata": {
        "colab": {
          "base_uri": "https://localhost:8080/",
          "height": 143
        },
        "id": "2GrjSeLI1pXY",
        "outputId": "b94e9fb8-abc4-47fa-c84d-26fbe85b3924"
      },
      "source": [
        "data.groupby('diabetes').mean()"
      ],
      "execution_count": null,
      "outputs": [
        {
          "output_type": "execute_result",
          "data": {
            "text/html": [
              "<div>\n",
              "<style scoped>\n",
              "    .dataframe tbody tr th:only-of-type {\n",
              "        vertical-align: middle;\n",
              "    }\n",
              "\n",
              "    .dataframe tbody tr th {\n",
              "        vertical-align: top;\n",
              "    }\n",
              "\n",
              "    .dataframe thead th {\n",
              "        text-align: right;\n",
              "    }\n",
              "</style>\n",
              "<table border=\"1\" class=\"dataframe\">\n",
              "  <thead>\n",
              "    <tr style=\"text-align: right;\">\n",
              "      <th></th>\n",
              "      <th>num_preg</th>\n",
              "      <th>glucose_conc</th>\n",
              "      <th>diastolic_bp</th>\n",
              "      <th>thickness</th>\n",
              "      <th>insulin</th>\n",
              "      <th>bmi</th>\n",
              "      <th>diab_pred</th>\n",
              "      <th>age</th>\n",
              "    </tr>\n",
              "    <tr>\n",
              "      <th>diabetes</th>\n",
              "      <th></th>\n",
              "      <th></th>\n",
              "      <th></th>\n",
              "      <th></th>\n",
              "      <th></th>\n",
              "      <th></th>\n",
              "      <th></th>\n",
              "      <th></th>\n",
              "    </tr>\n",
              "  </thead>\n",
              "  <tbody>\n",
              "    <tr>\n",
              "      <th>0</th>\n",
              "      <td>3.298000</td>\n",
              "      <td>109.980000</td>\n",
              "      <td>68.184000</td>\n",
              "      <td>19.664000</td>\n",
              "      <td>68.792000</td>\n",
              "      <td>30.304200</td>\n",
              "      <td>0.429734</td>\n",
              "      <td>31.190000</td>\n",
              "    </tr>\n",
              "    <tr>\n",
              "      <th>1</th>\n",
              "      <td>4.865672</td>\n",
              "      <td>141.257463</td>\n",
              "      <td>70.824627</td>\n",
              "      <td>22.164179</td>\n",
              "      <td>100.335821</td>\n",
              "      <td>35.142537</td>\n",
              "      <td>0.550500</td>\n",
              "      <td>37.067164</td>\n",
              "    </tr>\n",
              "  </tbody>\n",
              "</table>\n",
              "</div>"
            ],
            "text/plain": [
              "          num_preg  glucose_conc  diastolic_bp  ...        bmi  diab_pred        age\n",
              "diabetes                                        ...                                 \n",
              "0         3.298000    109.980000     68.184000  ...  30.304200   0.429734  31.190000\n",
              "1         4.865672    141.257463     70.824627  ...  35.142537   0.550500  37.067164\n",
              "\n",
              "[2 rows x 8 columns]"
            ]
          },
          "metadata": {},
          "execution_count": 20
        }
      ]
    },
    {
      "cell_type": "code",
      "metadata": {
        "colab": {
          "base_uri": "https://localhost:8080/"
        },
        "id": "qhpm-JKf1VUE",
        "outputId": "dc7b09d7-cb8e-458b-bf97-c8595f67d004"
      },
      "source": [
        "data['diabetes'].value_counts()"
      ],
      "execution_count": null,
      "outputs": [
        {
          "output_type": "execute_result",
          "data": {
            "text/plain": [
              "0    500\n",
              "1    268\n",
              "Name: diabetes, dtype: int64"
            ]
          },
          "metadata": {},
          "execution_count": 21
        }
      ]
    },
    {
      "cell_type": "markdown",
      "metadata": {
        "id": "RvsoVwIR1h_n"
      },
      "source": [
        "0 --> Non-Diabetic\n",
        "\n",
        "1 --> Diabetic"
      ]
    },
    {
      "cell_type": "markdown",
      "metadata": {
        "id": "Xg9H_z7r3DT5"
      },
      "source": [
        "# Check how many other missing(zero) values"
      ]
    },
    {
      "cell_type": "code",
      "metadata": {
        "colab": {
          "base_uri": "https://localhost:8080/"
        },
        "id": "LjVHvSf133W9",
        "outputId": "1c18f006-ecd5-4857-ed25-b8e5b07ccfea"
      },
      "source": [
        "print(\"total number of rows : {0}\".format(len(data)))\n",
        "print(\"number of rows missing glucose_conc: {0}\".format(len(data.loc[data['glucose_conc'] == 0])))\n",
        "print(\"number of rows missing diastolic_bp: {0}\".format(len(data.loc[data['diastolic_bp'] == 0])))\n",
        "print(\"number of rows missing insulin: {0}\".format(len(data.loc[data['insulin'] == 0])))\n",
        "print(\"number of rows missing thickness: {0}\".format(len(data.loc[data['thickness'] == 0])))\n",
        "print(\"number of rows missing bmi: {0}\".format(len(data.loc[data['bmi'] == 0])))\n",
        "print(\"number of rows missing diab_pred: {0}\".format(len(data.loc[data['diab_pred'] == 0])))\n",
        "print(\"number of rows missing age: {0}\".format(len(data.loc[data['age'] == 0])))\n"
      ],
      "execution_count": null,
      "outputs": [
        {
          "output_type": "stream",
          "name": "stdout",
          "text": [
            "total number of rows : 768\n",
            "number of rows missing glucose_conc: 5\n",
            "number of rows missing diastolic_bp: 35\n",
            "number of rows missing insulin: 374\n",
            "number of rows missing thickness: 227\n",
            "number of rows missing bmi: 11\n",
            "number of rows missing diab_pred: 0\n",
            "number of rows missing age: 0\n"
          ]
        }
      ]
    },
    {
      "cell_type": "code",
      "metadata": {
        "colab": {
          "base_uri": "https://localhost:8080/"
        },
        "id": "jACEXEp6JhGd",
        "outputId": "8ad7ab96-fd67-4c43-c5e8-68e58b3b67da"
      },
      "source": [
        "data['insulin'] = data['insulin'].replace(0, data['insulin'].mean()) \n",
        "data['glucose_conc'] = data['glucose_conc'].replace(0, data['glucose_conc'].mean()) \n",
        "data['diastolic_bp'] = data['diastolic_bp'].replace(0, data['diastolic_bp'].mean()) \n",
        "data['bmi'] = data['bmi'].replace(0, data['bmi'].mean()) \n",
        "data['thickness'] = data['thickness'].replace(0, data['thickness'].mean()) \n",
        "print(data[:20])"
      ],
      "execution_count": null,
      "outputs": [
        {
          "output_type": "stream",
          "name": "stdout",
          "text": [
            "    num_preg  glucose_conc  diastolic_bp  ...  diab_pred  age  diabetes\n",
            "0          6         148.0     72.000000  ...      0.627   50         1\n",
            "1          1          85.0     66.000000  ...      0.351   31         0\n",
            "2          8         183.0     64.000000  ...      0.672   32         1\n",
            "3          1          89.0     66.000000  ...      0.167   21         0\n",
            "4          0         137.0     40.000000  ...      2.288   33         1\n",
            "5          5         116.0     74.000000  ...      0.201   30         0\n",
            "6          3          78.0     50.000000  ...      0.248   26         1\n",
            "7         10         115.0     69.105469  ...      0.134   29         0\n",
            "8          2         197.0     70.000000  ...      0.158   53         1\n",
            "9          8         125.0     96.000000  ...      0.232   54         1\n",
            "10         4         110.0     92.000000  ...      0.191   30         0\n",
            "11        10         168.0     74.000000  ...      0.537   34         1\n",
            "12        10         139.0     80.000000  ...      1.441   57         0\n",
            "13         1         189.0     60.000000  ...      0.398   59         1\n",
            "14         5         166.0     72.000000  ...      0.587   51         1\n",
            "15         7         100.0     69.105469  ...      0.484   32         1\n",
            "16         0         118.0     84.000000  ...      0.551   31         1\n",
            "17         7         107.0     74.000000  ...      0.254   31         1\n",
            "18         1         103.0     30.000000  ...      0.183   33         0\n",
            "19         1         115.0     70.000000  ...      0.529   32         1\n",
            "\n",
            "[20 rows x 9 columns]\n"
          ]
        }
      ]
    },
    {
      "cell_type": "markdown",
      "metadata": {
        "id": "oIhZw6R7uiXO"
      },
      "source": [
        "# **Checking For the Outliers**"
      ]
    },
    {
      "cell_type": "code",
      "metadata": {
        "colab": {
          "base_uri": "https://localhost:8080/",
          "height": 624
        },
        "id": "zSgXsOHeo40d",
        "outputId": "328f554d-0a29-4386-8e50-a0e87ca4173f"
      },
      "source": [
        "plt.figure(figsize = (15,10))\n",
        "\n",
        "ax = plt.subplot(221)\n",
        "plt.boxplot(data['num_preg'])\n",
        "ax.set_title('Pregnancy')\n",
        "\n",
        "ax = plt.subplot(222)\n",
        "plt.boxplot(data['glucose_conc'])\n",
        "ax.set_title('Glucose')\n",
        "\n",
        "ax = plt.subplot(223)\n",
        "plt.boxplot(data['diastolic_bp'])\n",
        "ax.set_title('Blood Pressure')\n",
        "\n",
        "ax = plt.subplot(224)\n",
        "plt.boxplot(data['thickness'])\n",
        "ax.set_title('Thickness')\n"
      ],
      "execution_count": null,
      "outputs": [
        {
          "output_type": "execute_result",
          "data": {
            "text/plain": [
              "Text(0.5, 1.0, 'Thickness')"
            ]
          },
          "metadata": {},
          "execution_count": 24
        },
        {
          "output_type": "display_data",
          "data": {
            "image/png": "[encoded data removed]",
            "text/plain": [
              "<Figure size 1080x720 with 4 Axes>"
            ]
          },
          "metadata": {
            "needs_background": "light"
          }
        }
      ]
    },
    {
      "cell_type": "code",
      "metadata": {
        "colab": {
          "base_uri": "https://localhost:8080/",
          "height": 624
        },
        "id": "M_QO9A4tpFIZ",
        "outputId": "52e4934c-504e-4718-c5e4-1344c3203a6f"
      },
      "source": [
        "plt.figure(figsize = (15,10))\n",
        "ax = plt.subplot(221)\n",
        "plt.boxplot(data['insulin'])\n",
        "ax.set_title('Insulin')\n",
        "\n",
        "ax = plt.subplot(222)\n",
        "plt.boxplot(data['bmi'])\n",
        "ax.set_title('BMI')\n",
        "\n",
        "ax = plt.subplot(223)\n",
        "plt.boxplot(data['diab_pred'])\n",
        "ax.set_title('DPF')\n",
        "\n",
        "ax = plt.subplot(224)\n",
        "plt.boxplot(data['age'])\n",
        "ax.set_title('Age')"
      ],
      "execution_count": null,
      "outputs": [
        {
          "output_type": "execute_result",
          "data": {
            "text/plain": [
              "Text(0.5, 1.0, 'Age')"
            ]
          },
          "metadata": {},
          "execution_count": 25
        },
        {
          "output_type": "display_data",
          "data": {
            "image/png": "[encoded data removed]",
            "text/plain": [
              "<Figure size 1080x720 with 4 Axes>"
            ]
          },
          "metadata": {
            "needs_background": "light"
          }
        }
      ]
    },
    {
      "cell_type": "markdown",
      "metadata": {
        "id": "kQWFU4h4pTl3"
      },
      "source": [
        "**Removing Outliers for Insulin and DPF**"
      ]
    },
    {
      "cell_type": "code",
      "metadata": {
        "colab": {
          "base_uri": "https://localhost:8080/"
        },
        "id": "SXdPIB-5pPu4",
        "outputId": "52fcdf24-614c-4e0a-f6c7-b3127921c771"
      },
      "source": [
        "# print('Mean of Insulin',data.insulin.mean())\n",
        "# print('Std of Insulin: ',data.insulin.std())\n",
        "# upperlimit = data.insulin.mean() + 3*data.insulin.std()\n",
        "# print(\"Upper Limit is : \",upperlimit)\n",
        "# lowerlimit = data.insulin.mean() - 3*data.insulin.std()\n",
        "# print(\"Lower Limit is : \",lowerlimit)\n",
        "min_thresold,max_thresold = data.insulin.quantile([0.010,0.940])\n",
        "min_thresold,max_thresold"
      ],
      "execution_count": null,
      "outputs": [
        {
          "output_type": "execute_result",
          "data": {
            "text/plain": [
              "(24.340000000000003, 276.9599999999998)"
            ]
          },
          "metadata": {},
          "execution_count": 26
        }
      ]
    },
    {
      "cell_type": "code",
      "metadata": {
        "colab": {
          "base_uri": "https://localhost:8080/",
          "height": 300
        },
        "id": "Et47KrutpweZ",
        "outputId": "eac6ab7b-88cc-44cc-8001-673ca544d583"
      },
      "source": [
        "# data[(data.insulin>upperlimit) | (data.insulin<lowerlimit)]\n",
        "data[data.insulin < min_thresold]"
      ],
      "execution_count": null,
      "outputs": [
        {
          "output_type": "execute_result",
          "data": {
            "text/html": [
              "<div>\n",
              "<style scoped>\n",
              "    .dataframe tbody tr th:only-of-type {\n",
              "        vertical-align: middle;\n",
              "    }\n",
              "\n",
              "    .dataframe tbody tr th {\n",
              "        vertical-align: top;\n",
              "    }\n",
              "\n",
              "    .dataframe thead th {\n",
              "        text-align: right;\n",
              "    }\n",
              "</style>\n",
              "<table border=\"1\" class=\"dataframe\">\n",
              "  <thead>\n",
              "    <tr style=\"text-align: right;\">\n",
              "      <th></th>\n",
              "      <th>num_preg</th>\n",
              "      <th>glucose_conc</th>\n",
              "      <th>diastolic_bp</th>\n",
              "      <th>thickness</th>\n",
              "      <th>insulin</th>\n",
              "      <th>bmi</th>\n",
              "      <th>diab_pred</th>\n",
              "      <th>age</th>\n",
              "      <th>diabetes</th>\n",
              "    </tr>\n",
              "  </thead>\n",
              "  <tbody>\n",
              "    <tr>\n",
              "      <th>52</th>\n",
              "      <td>5</td>\n",
              "      <td>88.000000</td>\n",
              "      <td>66.0</td>\n",
              "      <td>21.0</td>\n",
              "      <td>23.0</td>\n",
              "      <td>24.4</td>\n",
              "      <td>0.342</td>\n",
              "      <td>30</td>\n",
              "      <td>0</td>\n",
              "    </tr>\n",
              "    <tr>\n",
              "      <th>108</th>\n",
              "      <td>3</td>\n",
              "      <td>83.000000</td>\n",
              "      <td>58.0</td>\n",
              "      <td>31.0</td>\n",
              "      <td>18.0</td>\n",
              "      <td>34.3</td>\n",
              "      <td>0.336</td>\n",
              "      <td>25</td>\n",
              "      <td>0</td>\n",
              "    </tr>\n",
              "    <tr>\n",
              "      <th>182</th>\n",
              "      <td>1</td>\n",
              "      <td>120.894531</td>\n",
              "      <td>74.0</td>\n",
              "      <td>20.0</td>\n",
              "      <td>23.0</td>\n",
              "      <td>27.7</td>\n",
              "      <td>0.299</td>\n",
              "      <td>21</td>\n",
              "      <td>0</td>\n",
              "    </tr>\n",
              "    <tr>\n",
              "      <th>445</th>\n",
              "      <td>0</td>\n",
              "      <td>180.000000</td>\n",
              "      <td>78.0</td>\n",
              "      <td>63.0</td>\n",
              "      <td>14.0</td>\n",
              "      <td>59.4</td>\n",
              "      <td>2.420</td>\n",
              "      <td>25</td>\n",
              "      <td>1</td>\n",
              "    </tr>\n",
              "    <tr>\n",
              "      <th>566</th>\n",
              "      <td>1</td>\n",
              "      <td>99.000000</td>\n",
              "      <td>72.0</td>\n",
              "      <td>30.0</td>\n",
              "      <td>18.0</td>\n",
              "      <td>38.6</td>\n",
              "      <td>0.412</td>\n",
              "      <td>21</td>\n",
              "      <td>0</td>\n",
              "    </tr>\n",
              "    <tr>\n",
              "      <th>617</th>\n",
              "      <td>2</td>\n",
              "      <td>68.000000</td>\n",
              "      <td>62.0</td>\n",
              "      <td>13.0</td>\n",
              "      <td>15.0</td>\n",
              "      <td>20.1</td>\n",
              "      <td>0.257</td>\n",
              "      <td>23</td>\n",
              "      <td>0</td>\n",
              "    </tr>\n",
              "    <tr>\n",
              "      <th>711</th>\n",
              "      <td>5</td>\n",
              "      <td>126.000000</td>\n",
              "      <td>78.0</td>\n",
              "      <td>27.0</td>\n",
              "      <td>22.0</td>\n",
              "      <td>29.6</td>\n",
              "      <td>0.439</td>\n",
              "      <td>40</td>\n",
              "      <td>0</td>\n",
              "    </tr>\n",
              "    <tr>\n",
              "      <th>760</th>\n",
              "      <td>2</td>\n",
              "      <td>88.000000</td>\n",
              "      <td>58.0</td>\n",
              "      <td>26.0</td>\n",
              "      <td>16.0</td>\n",
              "      <td>28.4</td>\n",
              "      <td>0.766</td>\n",
              "      <td>22</td>\n",
              "      <td>0</td>\n",
              "    </tr>\n",
              "  </tbody>\n",
              "</table>\n",
              "</div>"
            ],
            "text/plain": [
              "     num_preg  glucose_conc  diastolic_bp  ...  diab_pred  age  diabetes\n",
              "52          5     88.000000          66.0  ...      0.342   30         0\n",
              "108         3     83.000000          58.0  ...      0.336   25         0\n",
              "182         1    120.894531          74.0  ...      0.299   21         0\n",
              "445         0    180.000000          78.0  ...      2.420   25         1\n",
              "566         1     99.000000          72.0  ...      0.412   21         0\n",
              "617         2     68.000000          62.0  ...      0.257   23         0\n",
              "711         5    126.000000          78.0  ...      0.439   40         0\n",
              "760         2     88.000000          58.0  ...      0.766   22         0\n",
              "\n",
              "[8 rows x 9 columns]"
            ]
          },
          "metadata": {},
          "execution_count": 27
        }
      ]
    },
    {
      "cell_type": "code",
      "metadata": {
        "colab": {
          "base_uri": "https://localhost:8080/",
          "height": 1523
        },
        "id": "yacD_1Wvp7aC",
        "outputId": "c32f5f4a-4ab5-4bae-a633-26f53f7b7b52"
      },
      "source": [
        "# data = data[(data.insulin<upperlimit) & (data.insulin>lowerlimit)]\n",
        "data[data.insulin > max_thresold]"
      ],
      "execution_count": null,
      "outputs": [
        {
          "output_type": "execute_result",
          "data": {
            "text/html": [
              "<div>\n",
              "<style scoped>\n",
              "    .dataframe tbody tr th:only-of-type {\n",
              "        vertical-align: middle;\n",
              "    }\n",
              "\n",
              "    .dataframe tbody tr th {\n",
              "        vertical-align: top;\n",
              "    }\n",
              "\n",
              "    .dataframe thead th {\n",
              "        text-align: right;\n",
              "    }\n",
              "</style>\n",
              "<table border=\"1\" class=\"dataframe\">\n",
              "  <thead>\n",
              "    <tr style=\"text-align: right;\">\n",
              "      <th></th>\n",
              "      <th>num_preg</th>\n",
              "      <th>glucose_conc</th>\n",
              "      <th>diastolic_bp</th>\n",
              "      <th>thickness</th>\n",
              "      <th>insulin</th>\n",
              "      <th>bmi</th>\n",
              "      <th>diab_pred</th>\n",
              "      <th>age</th>\n",
              "      <th>diabetes</th>\n",
              "    </tr>\n",
              "  </thead>\n",
              "  <tbody>\n",
              "    <tr>\n",
              "      <th>8</th>\n",
              "      <td>2</td>\n",
              "      <td>197.0</td>\n",
              "      <td>70.0</td>\n",
              "      <td>45.0</td>\n",
              "      <td>543.0</td>\n",
              "      <td>30.5</td>\n",
              "      <td>0.158</td>\n",
              "      <td>53</td>\n",
              "      <td>1</td>\n",
              "    </tr>\n",
              "    <tr>\n",
              "      <th>13</th>\n",
              "      <td>1</td>\n",
              "      <td>189.0</td>\n",
              "      <td>60.0</td>\n",
              "      <td>23.0</td>\n",
              "      <td>846.0</td>\n",
              "      <td>30.1</td>\n",
              "      <td>0.398</td>\n",
              "      <td>59</td>\n",
              "      <td>1</td>\n",
              "    </tr>\n",
              "    <tr>\n",
              "      <th>53</th>\n",
              "      <td>8</td>\n",
              "      <td>176.0</td>\n",
              "      <td>90.0</td>\n",
              "      <td>34.0</td>\n",
              "      <td>300.0</td>\n",
              "      <td>33.7</td>\n",
              "      <td>0.467</td>\n",
              "      <td>58</td>\n",
              "      <td>1</td>\n",
              "    </tr>\n",
              "    <tr>\n",
              "      <th>54</th>\n",
              "      <td>7</td>\n",
              "      <td>150.0</td>\n",
              "      <td>66.0</td>\n",
              "      <td>42.0</td>\n",
              "      <td>342.0</td>\n",
              "      <td>34.7</td>\n",
              "      <td>0.718</td>\n",
              "      <td>42</td>\n",
              "      <td>0</td>\n",
              "    </tr>\n",
              "    <tr>\n",
              "      <th>56</th>\n",
              "      <td>7</td>\n",
              "      <td>187.0</td>\n",
              "      <td>68.0</td>\n",
              "      <td>39.0</td>\n",
              "      <td>304.0</td>\n",
              "      <td>37.7</td>\n",
              "      <td>0.254</td>\n",
              "      <td>41</td>\n",
              "      <td>1</td>\n",
              "    </tr>\n",
              "    <tr>\n",
              "      <th>111</th>\n",
              "      <td>8</td>\n",
              "      <td>155.0</td>\n",
              "      <td>62.0</td>\n",
              "      <td>26.0</td>\n",
              "      <td>495.0</td>\n",
              "      <td>34.0</td>\n",
              "      <td>0.543</td>\n",
              "      <td>46</td>\n",
              "      <td>1</td>\n",
              "    </tr>\n",
              "    <tr>\n",
              "      <th>139</th>\n",
              "      <td>5</td>\n",
              "      <td>105.0</td>\n",
              "      <td>72.0</td>\n",
              "      <td>29.0</td>\n",
              "      <td>325.0</td>\n",
              "      <td>36.9</td>\n",
              "      <td>0.159</td>\n",
              "      <td>28</td>\n",
              "      <td>0</td>\n",
              "    </tr>\n",
              "    <tr>\n",
              "      <th>144</th>\n",
              "      <td>4</td>\n",
              "      <td>154.0</td>\n",
              "      <td>62.0</td>\n",
              "      <td>31.0</td>\n",
              "      <td>284.0</td>\n",
              "      <td>32.8</td>\n",
              "      <td>0.237</td>\n",
              "      <td>23</td>\n",
              "      <td>0</td>\n",
              "    </tr>\n",
              "    <tr>\n",
              "      <th>153</th>\n",
              "      <td>1</td>\n",
              "      <td>153.0</td>\n",
              "      <td>82.0</td>\n",
              "      <td>42.0</td>\n",
              "      <td>485.0</td>\n",
              "      <td>40.6</td>\n",
              "      <td>0.687</td>\n",
              "      <td>23</td>\n",
              "      <td>0</td>\n",
              "    </tr>\n",
              "    <tr>\n",
              "      <th>162</th>\n",
              "      <td>0</td>\n",
              "      <td>114.0</td>\n",
              "      <td>80.0</td>\n",
              "      <td>34.0</td>\n",
              "      <td>285.0</td>\n",
              "      <td>44.2</td>\n",
              "      <td>0.167</td>\n",
              "      <td>27</td>\n",
              "      <td>0</td>\n",
              "    </tr>\n",
              "    <tr>\n",
              "      <th>186</th>\n",
              "      <td>8</td>\n",
              "      <td>181.0</td>\n",
              "      <td>68.0</td>\n",
              "      <td>36.0</td>\n",
              "      <td>495.0</td>\n",
              "      <td>30.1</td>\n",
              "      <td>0.615</td>\n",
              "      <td>60</td>\n",
              "      <td>1</td>\n",
              "    </tr>\n",
              "    <tr>\n",
              "      <th>199</th>\n",
              "      <td>4</td>\n",
              "      <td>148.0</td>\n",
              "      <td>60.0</td>\n",
              "      <td>27.0</td>\n",
              "      <td>318.0</td>\n",
              "      <td>30.9</td>\n",
              "      <td>0.150</td>\n",
              "      <td>29</td>\n",
              "      <td>1</td>\n",
              "    </tr>\n",
              "    <tr>\n",
              "      <th>206</th>\n",
              "      <td>8</td>\n",
              "      <td>196.0</td>\n",
              "      <td>76.0</td>\n",
              "      <td>29.0</td>\n",
              "      <td>280.0</td>\n",
              "      <td>37.5</td>\n",
              "      <td>0.605</td>\n",
              "      <td>57</td>\n",
              "      <td>1</td>\n",
              "    </tr>\n",
              "    <tr>\n",
              "      <th>220</th>\n",
              "      <td>0</td>\n",
              "      <td>177.0</td>\n",
              "      <td>60.0</td>\n",
              "      <td>29.0</td>\n",
              "      <td>478.0</td>\n",
              "      <td>34.6</td>\n",
              "      <td>1.072</td>\n",
              "      <td>21</td>\n",
              "      <td>1</td>\n",
              "    </tr>\n",
              "    <tr>\n",
              "      <th>228</th>\n",
              "      <td>4</td>\n",
              "      <td>197.0</td>\n",
              "      <td>70.0</td>\n",
              "      <td>39.0</td>\n",
              "      <td>744.0</td>\n",
              "      <td>36.7</td>\n",
              "      <td>2.329</td>\n",
              "      <td>31</td>\n",
              "      <td>0</td>\n",
              "    </tr>\n",
              "    <tr>\n",
              "      <th>231</th>\n",
              "      <td>6</td>\n",
              "      <td>134.0</td>\n",
              "      <td>80.0</td>\n",
              "      <td>37.0</td>\n",
              "      <td>370.0</td>\n",
              "      <td>46.2</td>\n",
              "      <td>0.238</td>\n",
              "      <td>46</td>\n",
              "      <td>1</td>\n",
              "    </tr>\n",
              "    <tr>\n",
              "      <th>247</th>\n",
              "      <td>0</td>\n",
              "      <td>165.0</td>\n",
              "      <td>90.0</td>\n",
              "      <td>33.0</td>\n",
              "      <td>680.0</td>\n",
              "      <td>52.3</td>\n",
              "      <td>0.427</td>\n",
              "      <td>23</td>\n",
              "      <td>0</td>\n",
              "    </tr>\n",
              "    <tr>\n",
              "      <th>248</th>\n",
              "      <td>9</td>\n",
              "      <td>124.0</td>\n",
              "      <td>70.0</td>\n",
              "      <td>33.0</td>\n",
              "      <td>402.0</td>\n",
              "      <td>35.4</td>\n",
              "      <td>0.282</td>\n",
              "      <td>34</td>\n",
              "      <td>0</td>\n",
              "    </tr>\n",
              "    <tr>\n",
              "      <th>258</th>\n",
              "      <td>1</td>\n",
              "      <td>193.0</td>\n",
              "      <td>50.0</td>\n",
              "      <td>16.0</td>\n",
              "      <td>375.0</td>\n",
              "      <td>25.9</td>\n",
              "      <td>0.655</td>\n",
              "      <td>24</td>\n",
              "      <td>0</td>\n",
              "    </tr>\n",
              "    <tr>\n",
              "      <th>279</th>\n",
              "      <td>2</td>\n",
              "      <td>108.0</td>\n",
              "      <td>62.0</td>\n",
              "      <td>10.0</td>\n",
              "      <td>278.0</td>\n",
              "      <td>25.3</td>\n",
              "      <td>0.881</td>\n",
              "      <td>22</td>\n",
              "      <td>0</td>\n",
              "    </tr>\n",
              "    <tr>\n",
              "      <th>286</th>\n",
              "      <td>5</td>\n",
              "      <td>155.0</td>\n",
              "      <td>84.0</td>\n",
              "      <td>44.0</td>\n",
              "      <td>545.0</td>\n",
              "      <td>38.7</td>\n",
              "      <td>0.619</td>\n",
              "      <td>34</td>\n",
              "      <td>0</td>\n",
              "    </tr>\n",
              "    <tr>\n",
              "      <th>296</th>\n",
              "      <td>2</td>\n",
              "      <td>146.0</td>\n",
              "      <td>70.0</td>\n",
              "      <td>38.0</td>\n",
              "      <td>360.0</td>\n",
              "      <td>28.0</td>\n",
              "      <td>0.337</td>\n",
              "      <td>29</td>\n",
              "      <td>1</td>\n",
              "    </tr>\n",
              "    <tr>\n",
              "      <th>360</th>\n",
              "      <td>5</td>\n",
              "      <td>189.0</td>\n",
              "      <td>64.0</td>\n",
              "      <td>33.0</td>\n",
              "      <td>325.0</td>\n",
              "      <td>31.2</td>\n",
              "      <td>0.583</td>\n",
              "      <td>29</td>\n",
              "      <td>1</td>\n",
              "    </tr>\n",
              "    <tr>\n",
              "      <th>364</th>\n",
              "      <td>4</td>\n",
              "      <td>147.0</td>\n",
              "      <td>74.0</td>\n",
              "      <td>25.0</td>\n",
              "      <td>293.0</td>\n",
              "      <td>34.9</td>\n",
              "      <td>0.385</td>\n",
              "      <td>30</td>\n",
              "      <td>0</td>\n",
              "    </tr>\n",
              "    <tr>\n",
              "      <th>370</th>\n",
              "      <td>3</td>\n",
              "      <td>173.0</td>\n",
              "      <td>82.0</td>\n",
              "      <td>48.0</td>\n",
              "      <td>465.0</td>\n",
              "      <td>38.4</td>\n",
              "      <td>2.137</td>\n",
              "      <td>25</td>\n",
              "      <td>1</td>\n",
              "    </tr>\n",
              "    <tr>\n",
              "      <th>375</th>\n",
              "      <td>12</td>\n",
              "      <td>140.0</td>\n",
              "      <td>82.0</td>\n",
              "      <td>43.0</td>\n",
              "      <td>325.0</td>\n",
              "      <td>39.2</td>\n",
              "      <td>0.528</td>\n",
              "      <td>58</td>\n",
              "      <td>1</td>\n",
              "    </tr>\n",
              "    <tr>\n",
              "      <th>388</th>\n",
              "      <td>5</td>\n",
              "      <td>144.0</td>\n",
              "      <td>82.0</td>\n",
              "      <td>26.0</td>\n",
              "      <td>285.0</td>\n",
              "      <td>32.0</td>\n",
              "      <td>0.452</td>\n",
              "      <td>58</td>\n",
              "      <td>1</td>\n",
              "    </tr>\n",
              "    <tr>\n",
              "      <th>392</th>\n",
              "      <td>1</td>\n",
              "      <td>131.0</td>\n",
              "      <td>64.0</td>\n",
              "      <td>14.0</td>\n",
              "      <td>415.0</td>\n",
              "      <td>23.7</td>\n",
              "      <td>0.389</td>\n",
              "      <td>21</td>\n",
              "      <td>0</td>\n",
              "    </tr>\n",
              "    <tr>\n",
              "      <th>409</th>\n",
              "      <td>1</td>\n",
              "      <td>172.0</td>\n",
              "      <td>68.0</td>\n",
              "      <td>49.0</td>\n",
              "      <td>579.0</td>\n",
              "      <td>42.4</td>\n",
              "      <td>0.702</td>\n",
              "      <td>28</td>\n",
              "      <td>1</td>\n",
              "    </tr>\n",
              "    <tr>\n",
              "      <th>412</th>\n",
              "      <td>1</td>\n",
              "      <td>143.0</td>\n",
              "      <td>84.0</td>\n",
              "      <td>23.0</td>\n",
              "      <td>310.0</td>\n",
              "      <td>42.4</td>\n",
              "      <td>1.076</td>\n",
              "      <td>22</td>\n",
              "      <td>0</td>\n",
              "    </tr>\n",
              "    <tr>\n",
              "      <th>415</th>\n",
              "      <td>3</td>\n",
              "      <td>173.0</td>\n",
              "      <td>84.0</td>\n",
              "      <td>33.0</td>\n",
              "      <td>474.0</td>\n",
              "      <td>35.7</td>\n",
              "      <td>0.258</td>\n",
              "      <td>22</td>\n",
              "      <td>1</td>\n",
              "    </tr>\n",
              "    <tr>\n",
              "      <th>425</th>\n",
              "      <td>4</td>\n",
              "      <td>184.0</td>\n",
              "      <td>78.0</td>\n",
              "      <td>39.0</td>\n",
              "      <td>277.0</td>\n",
              "      <td>37.0</td>\n",
              "      <td>0.264</td>\n",
              "      <td>31</td>\n",
              "      <td>1</td>\n",
              "    </tr>\n",
              "    <tr>\n",
              "      <th>480</th>\n",
              "      <td>3</td>\n",
              "      <td>158.0</td>\n",
              "      <td>70.0</td>\n",
              "      <td>30.0</td>\n",
              "      <td>328.0</td>\n",
              "      <td>35.5</td>\n",
              "      <td>0.344</td>\n",
              "      <td>35</td>\n",
              "      <td>1</td>\n",
              "    </tr>\n",
              "    <tr>\n",
              "      <th>486</th>\n",
              "      <td>1</td>\n",
              "      <td>139.0</td>\n",
              "      <td>62.0</td>\n",
              "      <td>41.0</td>\n",
              "      <td>480.0</td>\n",
              "      <td>40.7</td>\n",
              "      <td>0.536</td>\n",
              "      <td>21</td>\n",
              "      <td>0</td>\n",
              "    </tr>\n",
              "    <tr>\n",
              "      <th>519</th>\n",
              "      <td>6</td>\n",
              "      <td>129.0</td>\n",
              "      <td>90.0</td>\n",
              "      <td>7.0</td>\n",
              "      <td>326.0</td>\n",
              "      <td>19.6</td>\n",
              "      <td>0.582</td>\n",
              "      <td>60</td>\n",
              "      <td>0</td>\n",
              "    </tr>\n",
              "    <tr>\n",
              "      <th>574</th>\n",
              "      <td>1</td>\n",
              "      <td>143.0</td>\n",
              "      <td>86.0</td>\n",
              "      <td>30.0</td>\n",
              "      <td>330.0</td>\n",
              "      <td>30.1</td>\n",
              "      <td>0.892</td>\n",
              "      <td>23</td>\n",
              "      <td>0</td>\n",
              "    </tr>\n",
              "    <tr>\n",
              "      <th>584</th>\n",
              "      <td>8</td>\n",
              "      <td>124.0</td>\n",
              "      <td>76.0</td>\n",
              "      <td>24.0</td>\n",
              "      <td>600.0</td>\n",
              "      <td>28.7</td>\n",
              "      <td>0.687</td>\n",
              "      <td>52</td>\n",
              "      <td>1</td>\n",
              "    </tr>\n",
              "    <tr>\n",
              "      <th>606</th>\n",
              "      <td>1</td>\n",
              "      <td>181.0</td>\n",
              "      <td>78.0</td>\n",
              "      <td>42.0</td>\n",
              "      <td>293.0</td>\n",
              "      <td>40.0</td>\n",
              "      <td>1.258</td>\n",
              "      <td>22</td>\n",
              "      <td>1</td>\n",
              "    </tr>\n",
              "    <tr>\n",
              "      <th>612</th>\n",
              "      <td>7</td>\n",
              "      <td>168.0</td>\n",
              "      <td>88.0</td>\n",
              "      <td>42.0</td>\n",
              "      <td>321.0</td>\n",
              "      <td>38.2</td>\n",
              "      <td>0.787</td>\n",
              "      <td>40</td>\n",
              "      <td>1</td>\n",
              "    </tr>\n",
              "    <tr>\n",
              "      <th>645</th>\n",
              "      <td>2</td>\n",
              "      <td>157.0</td>\n",
              "      <td>74.0</td>\n",
              "      <td>35.0</td>\n",
              "      <td>440.0</td>\n",
              "      <td>39.4</td>\n",
              "      <td>0.134</td>\n",
              "      <td>30</td>\n",
              "      <td>0</td>\n",
              "    </tr>\n",
              "    <tr>\n",
              "      <th>655</th>\n",
              "      <td>2</td>\n",
              "      <td>155.0</td>\n",
              "      <td>52.0</td>\n",
              "      <td>27.0</td>\n",
              "      <td>540.0</td>\n",
              "      <td>38.7</td>\n",
              "      <td>0.240</td>\n",
              "      <td>25</td>\n",
              "      <td>1</td>\n",
              "    </tr>\n",
              "    <tr>\n",
              "      <th>695</th>\n",
              "      <td>7</td>\n",
              "      <td>142.0</td>\n",
              "      <td>90.0</td>\n",
              "      <td>24.0</td>\n",
              "      <td>480.0</td>\n",
              "      <td>30.4</td>\n",
              "      <td>0.128</td>\n",
              "      <td>43</td>\n",
              "      <td>1</td>\n",
              "    </tr>\n",
              "    <tr>\n",
              "      <th>707</th>\n",
              "      <td>2</td>\n",
              "      <td>127.0</td>\n",
              "      <td>46.0</td>\n",
              "      <td>21.0</td>\n",
              "      <td>335.0</td>\n",
              "      <td>34.4</td>\n",
              "      <td>0.176</td>\n",
              "      <td>22</td>\n",
              "      <td>0</td>\n",
              "    </tr>\n",
              "    <tr>\n",
              "      <th>710</th>\n",
              "      <td>3</td>\n",
              "      <td>158.0</td>\n",
              "      <td>64.0</td>\n",
              "      <td>13.0</td>\n",
              "      <td>387.0</td>\n",
              "      <td>31.2</td>\n",
              "      <td>0.295</td>\n",
              "      <td>24</td>\n",
              "      <td>0</td>\n",
              "    </tr>\n",
              "    <tr>\n",
              "      <th>713</th>\n",
              "      <td>0</td>\n",
              "      <td>134.0</td>\n",
              "      <td>58.0</td>\n",
              "      <td>20.0</td>\n",
              "      <td>291.0</td>\n",
              "      <td>26.4</td>\n",
              "      <td>0.352</td>\n",
              "      <td>21</td>\n",
              "      <td>0</td>\n",
              "    </tr>\n",
              "    <tr>\n",
              "      <th>715</th>\n",
              "      <td>7</td>\n",
              "      <td>187.0</td>\n",
              "      <td>50.0</td>\n",
              "      <td>33.0</td>\n",
              "      <td>392.0</td>\n",
              "      <td>33.9</td>\n",
              "      <td>0.826</td>\n",
              "      <td>34</td>\n",
              "      <td>1</td>\n",
              "    </tr>\n",
              "    <tr>\n",
              "      <th>753</th>\n",
              "      <td>0</td>\n",
              "      <td>181.0</td>\n",
              "      <td>88.0</td>\n",
              "      <td>44.0</td>\n",
              "      <td>510.0</td>\n",
              "      <td>43.3</td>\n",
              "      <td>0.222</td>\n",
              "      <td>26</td>\n",
              "      <td>1</td>\n",
              "    </tr>\n",
              "  </tbody>\n",
              "</table>\n",
              "</div>"
            ],
            "text/plain": [
              "     num_preg  glucose_conc  diastolic_bp  ...  diab_pred  age  diabetes\n",
              "8           2         197.0          70.0  ...      0.158   53         1\n",
              "13          1         189.0          60.0  ...      0.398   59         1\n",
              "53          8         176.0          90.0  ...      0.467   58         1\n",
              "54          7         150.0          66.0  ...      0.718   42         0\n",
              "56          7         187.0          68.0  ...      0.254   41         1\n",
              "111         8         155.0          62.0  ...      0.543   46         1\n",
              "139         5         105.0          72.0  ...      0.159   28         0\n",
              "144         4         154.0          62.0  ...      0.237   23         0\n",
              "153         1         153.0          82.0  ...      0.687   23         0\n",
              "162         0         114.0          80.0  ...      0.167   27         0\n",
              "186         8         181.0          68.0  ...      0.615   60         1\n",
              "199         4         148.0          60.0  ...      0.150   29         1\n",
              "206         8         196.0          76.0  ...      0.605   57         1\n",
              "220         0         177.0          60.0  ...      1.072   21         1\n",
              "228         4         197.0          70.0  ...      2.329   31         0\n",
              "231         6         134.0          80.0  ...      0.238   46         1\n",
              "247         0         165.0          90.0  ...      0.427   23         0\n",
              "248         9         124.0          70.0  ...      0.282   34         0\n",
              "258         1         193.0          50.0  ...      0.655   24         0\n",
              "279         2         108.0          62.0  ...      0.881   22         0\n",
              "286         5         155.0          84.0  ...      0.619   34         0\n",
              "296         2         146.0          70.0  ...      0.337   29         1\n",
              "360         5         189.0          64.0  ...      0.583   29         1\n",
              "364         4         147.0          74.0  ...      0.385   30         0\n",
              "370         3         173.0          82.0  ...      2.137   25         1\n",
              "375        12         140.0          82.0  ...      0.528   58         1\n",
              "388         5         144.0          82.0  ...      0.452   58         1\n",
              "392         1         131.0          64.0  ...      0.389   21         0\n",
              "409         1         172.0          68.0  ...      0.702   28         1\n",
              "412         1         143.0          84.0  ...      1.076   22         0\n",
              "415         3         173.0          84.0  ...      0.258   22         1\n",
              "425         4         184.0          78.0  ...      0.264   31         1\n",
              "480         3         158.0          70.0  ...      0.344   35         1\n",
              "486         1         139.0          62.0  ...      0.536   21         0\n",
              "519         6         129.0          90.0  ...      0.582   60         0\n",
              "574         1         143.0          86.0  ...      0.892   23         0\n",
              "584         8         124.0          76.0  ...      0.687   52         1\n",
              "606         1         181.0          78.0  ...      1.258   22         1\n",
              "612         7         168.0          88.0  ...      0.787   40         1\n",
              "645         2         157.0          74.0  ...      0.134   30         0\n",
              "655         2         155.0          52.0  ...      0.240   25         1\n",
              "695         7         142.0          90.0  ...      0.128   43         1\n",
              "707         2         127.0          46.0  ...      0.176   22         0\n",
              "710         3         158.0          64.0  ...      0.295   24         0\n",
              "713         0         134.0          58.0  ...      0.352   21         0\n",
              "715         7         187.0          50.0  ...      0.826   34         1\n",
              "753         0         181.0          88.0  ...      0.222   26         1\n",
              "\n",
              "[47 rows x 9 columns]"
            ]
          },
          "metadata": {},
          "execution_count": 28
        }
      ]
    },
    {
      "cell_type": "code",
      "metadata": {
        "colab": {
          "base_uri": "https://localhost:8080/"
        },
        "id": "Vib4dJiDtWMT",
        "outputId": "9c2112b0-1e54-44db-a1be-38f7d03c4bd9"
      },
      "source": [
        "data = data[(data.insulin < max_thresold) & (data.insulin > min_thresold)]\n",
        "data.shape"
      ],
      "execution_count": null,
      "outputs": [
        {
          "output_type": "execute_result",
          "data": {
            "text/plain": [
              "(713, 9)"
            ]
          },
          "metadata": {},
          "execution_count": 29
        }
      ]
    },
    {
      "cell_type": "code",
      "metadata": {
        "colab": {
          "base_uri": "https://localhost:8080/"
        },
        "id": "DbiCnO9OqdtG",
        "outputId": "1a596279-a75b-46ae-aa1d-379fddce331e"
      },
      "source": [
        "min_thresold1,max_thresold1 = data.diab_pred.quantile([0.001,0.940])\n",
        "min_thresold1,max_thresold1"
      ],
      "execution_count": null,
      "outputs": [
        {
          "output_type": "execute_result",
          "data": {
            "text/plain": [
              "(0.082272, 1.02128)"
            ]
          },
          "metadata": {},
          "execution_count": 30
        }
      ]
    },
    {
      "cell_type": "code",
      "metadata": {
        "colab": {
          "base_uri": "https://localhost:8080/",
          "height": 81
        },
        "id": "Uv-P_Szruwwc",
        "outputId": "829b4e6b-a4e4-4fca-a968-54684aab0d66"
      },
      "source": [
        "data[data.diab_pred < min_thresold1]"
      ],
      "execution_count": null,
      "outputs": [
        {
          "output_type": "execute_result",
          "data": {
            "text/html": [
              "<div>\n",
              "<style scoped>\n",
              "    .dataframe tbody tr th:only-of-type {\n",
              "        vertical-align: middle;\n",
              "    }\n",
              "\n",
              "    .dataframe tbody tr th {\n",
              "        vertical-align: top;\n",
              "    }\n",
              "\n",
              "    .dataframe thead th {\n",
              "        text-align: right;\n",
              "    }\n",
              "</style>\n",
              "<table border=\"1\" class=\"dataframe\">\n",
              "  <thead>\n",
              "    <tr style=\"text-align: right;\">\n",
              "      <th></th>\n",
              "      <th>num_preg</th>\n",
              "      <th>glucose_conc</th>\n",
              "      <th>diastolic_bp</th>\n",
              "      <th>thickness</th>\n",
              "      <th>insulin</th>\n",
              "      <th>bmi</th>\n",
              "      <th>diab_pred</th>\n",
              "      <th>age</th>\n",
              "      <th>diabetes</th>\n",
              "    </tr>\n",
              "  </thead>\n",
              "  <tbody>\n",
              "    <tr>\n",
              "      <th>268</th>\n",
              "      <td>0</td>\n",
              "      <td>102.0</td>\n",
              "      <td>52.0</td>\n",
              "      <td>20.536458</td>\n",
              "      <td>79.799479</td>\n",
              "      <td>25.1</td>\n",
              "      <td>0.078</td>\n",
              "      <td>21</td>\n",
              "      <td>0</td>\n",
              "    </tr>\n",
              "  </tbody>\n",
              "</table>\n",
              "</div>"
            ],
            "text/plain": [
              "     num_preg  glucose_conc  diastolic_bp  ...  diab_pred  age  diabetes\n",
              "268         0         102.0          52.0  ...      0.078   21         0\n",
              "\n",
              "[1 rows x 9 columns]"
            ]
          },
          "metadata": {},
          "execution_count": 31
        }
      ]
    },
    {
      "cell_type": "code",
      "metadata": {
        "colab": {
          "base_uri": "https://localhost:8080/",
          "height": 1398
        },
        "id": "LF5AZSd3vAJa",
        "outputId": "aeb2f4f7-27d8-4090-ef84-7dfceba18812"
      },
      "source": [
        "data[data.diab_pred > max_thresold1]"
      ],
      "execution_count": null,
      "outputs": [
        {
          "output_type": "execute_result",
          "data": {
            "text/html": [
              "<div>\n",
              "<style scoped>\n",
              "    .dataframe tbody tr th:only-of-type {\n",
              "        vertical-align: middle;\n",
              "    }\n",
              "\n",
              "    .dataframe tbody tr th {\n",
              "        vertical-align: top;\n",
              "    }\n",
              "\n",
              "    .dataframe thead th {\n",
              "        text-align: right;\n",
              "    }\n",
              "</style>\n",
              "<table border=\"1\" class=\"dataframe\">\n",
              "  <thead>\n",
              "    <tr style=\"text-align: right;\">\n",
              "      <th></th>\n",
              "      <th>num_preg</th>\n",
              "      <th>glucose_conc</th>\n",
              "      <th>diastolic_bp</th>\n",
              "      <th>thickness</th>\n",
              "      <th>insulin</th>\n",
              "      <th>bmi</th>\n",
              "      <th>diab_pred</th>\n",
              "      <th>age</th>\n",
              "      <th>diabetes</th>\n",
              "    </tr>\n",
              "  </thead>\n",
              "  <tbody>\n",
              "    <tr>\n",
              "      <th>4</th>\n",
              "      <td>0</td>\n",
              "      <td>137.0</td>\n",
              "      <td>40.0</td>\n",
              "      <td>35.000000</td>\n",
              "      <td>168.000000</td>\n",
              "      <td>43.100000</td>\n",
              "      <td>2.288</td>\n",
              "      <td>33</td>\n",
              "      <td>1</td>\n",
              "    </tr>\n",
              "    <tr>\n",
              "      <th>12</th>\n",
              "      <td>10</td>\n",
              "      <td>139.0</td>\n",
              "      <td>80.0</td>\n",
              "      <td>20.536458</td>\n",
              "      <td>79.799479</td>\n",
              "      <td>27.100000</td>\n",
              "      <td>1.441</td>\n",
              "      <td>57</td>\n",
              "      <td>0</td>\n",
              "    </tr>\n",
              "    <tr>\n",
              "      <th>39</th>\n",
              "      <td>4</td>\n",
              "      <td>111.0</td>\n",
              "      <td>72.0</td>\n",
              "      <td>47.000000</td>\n",
              "      <td>207.000000</td>\n",
              "      <td>37.100000</td>\n",
              "      <td>1.390</td>\n",
              "      <td>56</td>\n",
              "      <td>1</td>\n",
              "    </tr>\n",
              "    <tr>\n",
              "      <th>45</th>\n",
              "      <td>0</td>\n",
              "      <td>180.0</td>\n",
              "      <td>66.0</td>\n",
              "      <td>39.000000</td>\n",
              "      <td>79.799479</td>\n",
              "      <td>42.000000</td>\n",
              "      <td>1.893</td>\n",
              "      <td>25</td>\n",
              "      <td>1</td>\n",
              "    </tr>\n",
              "    <tr>\n",
              "      <th>58</th>\n",
              "      <td>0</td>\n",
              "      <td>146.0</td>\n",
              "      <td>82.0</td>\n",
              "      <td>20.536458</td>\n",
              "      <td>79.799479</td>\n",
              "      <td>40.500000</td>\n",
              "      <td>1.781</td>\n",
              "      <td>44</td>\n",
              "      <td>0</td>\n",
              "    </tr>\n",
              "    <tr>\n",
              "      <th>100</th>\n",
              "      <td>1</td>\n",
              "      <td>163.0</td>\n",
              "      <td>72.0</td>\n",
              "      <td>20.536458</td>\n",
              "      <td>79.799479</td>\n",
              "      <td>39.000000</td>\n",
              "      <td>1.222</td>\n",
              "      <td>33</td>\n",
              "      <td>1</td>\n",
              "    </tr>\n",
              "    <tr>\n",
              "      <th>131</th>\n",
              "      <td>9</td>\n",
              "      <td>122.0</td>\n",
              "      <td>56.0</td>\n",
              "      <td>20.536458</td>\n",
              "      <td>79.799479</td>\n",
              "      <td>33.300000</td>\n",
              "      <td>1.114</td>\n",
              "      <td>33</td>\n",
              "      <td>1</td>\n",
              "    </tr>\n",
              "    <tr>\n",
              "      <th>147</th>\n",
              "      <td>2</td>\n",
              "      <td>106.0</td>\n",
              "      <td>64.0</td>\n",
              "      <td>35.000000</td>\n",
              "      <td>119.000000</td>\n",
              "      <td>30.500000</td>\n",
              "      <td>1.400</td>\n",
              "      <td>34</td>\n",
              "      <td>0</td>\n",
              "    </tr>\n",
              "    <tr>\n",
              "      <th>152</th>\n",
              "      <td>9</td>\n",
              "      <td>156.0</td>\n",
              "      <td>86.0</td>\n",
              "      <td>28.000000</td>\n",
              "      <td>155.000000</td>\n",
              "      <td>34.300000</td>\n",
              "      <td>1.189</td>\n",
              "      <td>42</td>\n",
              "      <td>1</td>\n",
              "    </tr>\n",
              "    <tr>\n",
              "      <th>187</th>\n",
              "      <td>1</td>\n",
              "      <td>128.0</td>\n",
              "      <td>98.0</td>\n",
              "      <td>41.000000</td>\n",
              "      <td>58.000000</td>\n",
              "      <td>32.000000</td>\n",
              "      <td>1.321</td>\n",
              "      <td>33</td>\n",
              "      <td>1</td>\n",
              "    </tr>\n",
              "    <tr>\n",
              "      <th>218</th>\n",
              "      <td>5</td>\n",
              "      <td>85.0</td>\n",
              "      <td>74.0</td>\n",
              "      <td>22.000000</td>\n",
              "      <td>79.799479</td>\n",
              "      <td>29.000000</td>\n",
              "      <td>1.224</td>\n",
              "      <td>32</td>\n",
              "      <td>1</td>\n",
              "    </tr>\n",
              "    <tr>\n",
              "      <th>243</th>\n",
              "      <td>6</td>\n",
              "      <td>119.0</td>\n",
              "      <td>50.0</td>\n",
              "      <td>22.000000</td>\n",
              "      <td>176.000000</td>\n",
              "      <td>27.100000</td>\n",
              "      <td>1.318</td>\n",
              "      <td>33</td>\n",
              "      <td>1</td>\n",
              "    </tr>\n",
              "    <tr>\n",
              "      <th>245</th>\n",
              "      <td>9</td>\n",
              "      <td>184.0</td>\n",
              "      <td>85.0</td>\n",
              "      <td>15.000000</td>\n",
              "      <td>79.799479</td>\n",
              "      <td>30.000000</td>\n",
              "      <td>1.213</td>\n",
              "      <td>49</td>\n",
              "      <td>1</td>\n",
              "    </tr>\n",
              "    <tr>\n",
              "      <th>259</th>\n",
              "      <td>11</td>\n",
              "      <td>155.0</td>\n",
              "      <td>76.0</td>\n",
              "      <td>28.000000</td>\n",
              "      <td>150.000000</td>\n",
              "      <td>33.300000</td>\n",
              "      <td>1.353</td>\n",
              "      <td>51</td>\n",
              "      <td>1</td>\n",
              "    </tr>\n",
              "    <tr>\n",
              "      <th>267</th>\n",
              "      <td>2</td>\n",
              "      <td>128.0</td>\n",
              "      <td>64.0</td>\n",
              "      <td>42.000000</td>\n",
              "      <td>79.799479</td>\n",
              "      <td>40.000000</td>\n",
              "      <td>1.101</td>\n",
              "      <td>24</td>\n",
              "      <td>0</td>\n",
              "    </tr>\n",
              "    <tr>\n",
              "      <th>270</th>\n",
              "      <td>10</td>\n",
              "      <td>101.0</td>\n",
              "      <td>86.0</td>\n",
              "      <td>37.000000</td>\n",
              "      <td>79.799479</td>\n",
              "      <td>45.600000</td>\n",
              "      <td>1.136</td>\n",
              "      <td>38</td>\n",
              "      <td>1</td>\n",
              "    </tr>\n",
              "    <tr>\n",
              "      <th>292</th>\n",
              "      <td>2</td>\n",
              "      <td>128.0</td>\n",
              "      <td>78.0</td>\n",
              "      <td>37.000000</td>\n",
              "      <td>182.000000</td>\n",
              "      <td>43.300000</td>\n",
              "      <td>1.224</td>\n",
              "      <td>31</td>\n",
              "      <td>1</td>\n",
              "    </tr>\n",
              "    <tr>\n",
              "      <th>308</th>\n",
              "      <td>0</td>\n",
              "      <td>128.0</td>\n",
              "      <td>68.0</td>\n",
              "      <td>19.000000</td>\n",
              "      <td>180.000000</td>\n",
              "      <td>30.500000</td>\n",
              "      <td>1.391</td>\n",
              "      <td>25</td>\n",
              "      <td>1</td>\n",
              "    </tr>\n",
              "    <tr>\n",
              "      <th>314</th>\n",
              "      <td>7</td>\n",
              "      <td>109.0</td>\n",
              "      <td>80.0</td>\n",
              "      <td>31.000000</td>\n",
              "      <td>79.799479</td>\n",
              "      <td>35.900000</td>\n",
              "      <td>1.127</td>\n",
              "      <td>43</td>\n",
              "      <td>1</td>\n",
              "    </tr>\n",
              "    <tr>\n",
              "      <th>330</th>\n",
              "      <td>8</td>\n",
              "      <td>118.0</td>\n",
              "      <td>72.0</td>\n",
              "      <td>19.000000</td>\n",
              "      <td>79.799479</td>\n",
              "      <td>23.100000</td>\n",
              "      <td>1.476</td>\n",
              "      <td>46</td>\n",
              "      <td>0</td>\n",
              "    </tr>\n",
              "    <tr>\n",
              "      <th>371</th>\n",
              "      <td>0</td>\n",
              "      <td>118.0</td>\n",
              "      <td>64.0</td>\n",
              "      <td>23.000000</td>\n",
              "      <td>89.000000</td>\n",
              "      <td>31.992578</td>\n",
              "      <td>1.731</td>\n",
              "      <td>21</td>\n",
              "      <td>0</td>\n",
              "    </tr>\n",
              "    <tr>\n",
              "      <th>383</th>\n",
              "      <td>1</td>\n",
              "      <td>90.0</td>\n",
              "      <td>62.0</td>\n",
              "      <td>18.000000</td>\n",
              "      <td>59.000000</td>\n",
              "      <td>25.100000</td>\n",
              "      <td>1.268</td>\n",
              "      <td>25</td>\n",
              "      <td>0</td>\n",
              "    </tr>\n",
              "    <tr>\n",
              "      <th>395</th>\n",
              "      <td>2</td>\n",
              "      <td>127.0</td>\n",
              "      <td>58.0</td>\n",
              "      <td>24.000000</td>\n",
              "      <td>275.000000</td>\n",
              "      <td>27.700000</td>\n",
              "      <td>1.600</td>\n",
              "      <td>25</td>\n",
              "      <td>0</td>\n",
              "    </tr>\n",
              "    <tr>\n",
              "      <th>408</th>\n",
              "      <td>8</td>\n",
              "      <td>197.0</td>\n",
              "      <td>74.0</td>\n",
              "      <td>20.536458</td>\n",
              "      <td>79.799479</td>\n",
              "      <td>25.900000</td>\n",
              "      <td>1.191</td>\n",
              "      <td>39</td>\n",
              "      <td>1</td>\n",
              "    </tr>\n",
              "    <tr>\n",
              "      <th>416</th>\n",
              "      <td>1</td>\n",
              "      <td>97.0</td>\n",
              "      <td>68.0</td>\n",
              "      <td>21.000000</td>\n",
              "      <td>79.799479</td>\n",
              "      <td>27.200000</td>\n",
              "      <td>1.095</td>\n",
              "      <td>22</td>\n",
              "      <td>0</td>\n",
              "    </tr>\n",
              "    <tr>\n",
              "      <th>434</th>\n",
              "      <td>1</td>\n",
              "      <td>90.0</td>\n",
              "      <td>68.0</td>\n",
              "      <td>8.000000</td>\n",
              "      <td>79.799479</td>\n",
              "      <td>24.500000</td>\n",
              "      <td>1.138</td>\n",
              "      <td>36</td>\n",
              "      <td>0</td>\n",
              "    </tr>\n",
              "    <tr>\n",
              "      <th>464</th>\n",
              "      <td>10</td>\n",
              "      <td>115.0</td>\n",
              "      <td>98.0</td>\n",
              "      <td>20.536458</td>\n",
              "      <td>79.799479</td>\n",
              "      <td>24.000000</td>\n",
              "      <td>1.022</td>\n",
              "      <td>34</td>\n",
              "      <td>0</td>\n",
              "    </tr>\n",
              "    <tr>\n",
              "      <th>487</th>\n",
              "      <td>0</td>\n",
              "      <td>173.0</td>\n",
              "      <td>78.0</td>\n",
              "      <td>32.000000</td>\n",
              "      <td>265.000000</td>\n",
              "      <td>46.500000</td>\n",
              "      <td>1.159</td>\n",
              "      <td>58</td>\n",
              "      <td>0</td>\n",
              "    </tr>\n",
              "    <tr>\n",
              "      <th>493</th>\n",
              "      <td>4</td>\n",
              "      <td>125.0</td>\n",
              "      <td>70.0</td>\n",
              "      <td>18.000000</td>\n",
              "      <td>122.000000</td>\n",
              "      <td>28.900000</td>\n",
              "      <td>1.144</td>\n",
              "      <td>45</td>\n",
              "      <td>1</td>\n",
              "    </tr>\n",
              "    <tr>\n",
              "      <th>534</th>\n",
              "      <td>1</td>\n",
              "      <td>77.0</td>\n",
              "      <td>56.0</td>\n",
              "      <td>30.000000</td>\n",
              "      <td>56.000000</td>\n",
              "      <td>33.300000</td>\n",
              "      <td>1.251</td>\n",
              "      <td>24</td>\n",
              "      <td>0</td>\n",
              "    </tr>\n",
              "    <tr>\n",
              "      <th>546</th>\n",
              "      <td>5</td>\n",
              "      <td>187.0</td>\n",
              "      <td>76.0</td>\n",
              "      <td>27.000000</td>\n",
              "      <td>207.000000</td>\n",
              "      <td>43.600000</td>\n",
              "      <td>1.034</td>\n",
              "      <td>53</td>\n",
              "      <td>1</td>\n",
              "    </tr>\n",
              "    <tr>\n",
              "      <th>588</th>\n",
              "      <td>3</td>\n",
              "      <td>176.0</td>\n",
              "      <td>86.0</td>\n",
              "      <td>27.000000</td>\n",
              "      <td>156.000000</td>\n",
              "      <td>33.300000</td>\n",
              "      <td>1.154</td>\n",
              "      <td>52</td>\n",
              "      <td>1</td>\n",
              "    </tr>\n",
              "    <tr>\n",
              "      <th>593</th>\n",
              "      <td>2</td>\n",
              "      <td>82.0</td>\n",
              "      <td>52.0</td>\n",
              "      <td>22.000000</td>\n",
              "      <td>115.000000</td>\n",
              "      <td>28.500000</td>\n",
              "      <td>1.699</td>\n",
              "      <td>25</td>\n",
              "      <td>0</td>\n",
              "    </tr>\n",
              "    <tr>\n",
              "      <th>618</th>\n",
              "      <td>9</td>\n",
              "      <td>112.0</td>\n",
              "      <td>82.0</td>\n",
              "      <td>24.000000</td>\n",
              "      <td>79.799479</td>\n",
              "      <td>28.200000</td>\n",
              "      <td>1.282</td>\n",
              "      <td>50</td>\n",
              "      <td>1</td>\n",
              "    </tr>\n",
              "    <tr>\n",
              "      <th>621</th>\n",
              "      <td>2</td>\n",
              "      <td>92.0</td>\n",
              "      <td>76.0</td>\n",
              "      <td>20.000000</td>\n",
              "      <td>79.799479</td>\n",
              "      <td>24.200000</td>\n",
              "      <td>1.698</td>\n",
              "      <td>28</td>\n",
              "      <td>0</td>\n",
              "    </tr>\n",
              "    <tr>\n",
              "      <th>622</th>\n",
              "      <td>6</td>\n",
              "      <td>183.0</td>\n",
              "      <td>94.0</td>\n",
              "      <td>20.536458</td>\n",
              "      <td>79.799479</td>\n",
              "      <td>40.800000</td>\n",
              "      <td>1.461</td>\n",
              "      <td>45</td>\n",
              "      <td>0</td>\n",
              "    </tr>\n",
              "    <tr>\n",
              "      <th>657</th>\n",
              "      <td>1</td>\n",
              "      <td>120.0</td>\n",
              "      <td>80.0</td>\n",
              "      <td>48.000000</td>\n",
              "      <td>200.000000</td>\n",
              "      <td>38.900000</td>\n",
              "      <td>1.162</td>\n",
              "      <td>41</td>\n",
              "      <td>0</td>\n",
              "    </tr>\n",
              "    <tr>\n",
              "      <th>659</th>\n",
              "      <td>3</td>\n",
              "      <td>80.0</td>\n",
              "      <td>82.0</td>\n",
              "      <td>31.000000</td>\n",
              "      <td>70.000000</td>\n",
              "      <td>34.200000</td>\n",
              "      <td>1.292</td>\n",
              "      <td>27</td>\n",
              "      <td>1</td>\n",
              "    </tr>\n",
              "    <tr>\n",
              "      <th>661</th>\n",
              "      <td>1</td>\n",
              "      <td>199.0</td>\n",
              "      <td>76.0</td>\n",
              "      <td>43.000000</td>\n",
              "      <td>79.799479</td>\n",
              "      <td>42.900000</td>\n",
              "      <td>1.394</td>\n",
              "      <td>22</td>\n",
              "      <td>1</td>\n",
              "    </tr>\n",
              "    <tr>\n",
              "      <th>744</th>\n",
              "      <td>13</td>\n",
              "      <td>153.0</td>\n",
              "      <td>88.0</td>\n",
              "      <td>37.000000</td>\n",
              "      <td>140.000000</td>\n",
              "      <td>40.600000</td>\n",
              "      <td>1.174</td>\n",
              "      <td>39</td>\n",
              "      <td>0</td>\n",
              "    </tr>\n",
              "    <tr>\n",
              "      <th>747</th>\n",
              "      <td>1</td>\n",
              "      <td>81.0</td>\n",
              "      <td>74.0</td>\n",
              "      <td>41.000000</td>\n",
              "      <td>57.000000</td>\n",
              "      <td>46.300000</td>\n",
              "      <td>1.096</td>\n",
              "      <td>32</td>\n",
              "      <td>0</td>\n",
              "    </tr>\n",
              "    <tr>\n",
              "      <th>750</th>\n",
              "      <td>4</td>\n",
              "      <td>136.0</td>\n",
              "      <td>70.0</td>\n",
              "      <td>20.536458</td>\n",
              "      <td>79.799479</td>\n",
              "      <td>31.200000</td>\n",
              "      <td>1.182</td>\n",
              "      <td>22</td>\n",
              "      <td>1</td>\n",
              "    </tr>\n",
              "    <tr>\n",
              "      <th>755</th>\n",
              "      <td>1</td>\n",
              "      <td>128.0</td>\n",
              "      <td>88.0</td>\n",
              "      <td>39.000000</td>\n",
              "      <td>110.000000</td>\n",
              "      <td>36.500000</td>\n",
              "      <td>1.057</td>\n",
              "      <td>37</td>\n",
              "      <td>1</td>\n",
              "    </tr>\n",
              "  </tbody>\n",
              "</table>\n",
              "</div>"
            ],
            "text/plain": [
              "     num_preg  glucose_conc  diastolic_bp  ...  diab_pred  age  diabetes\n",
              "4           0         137.0          40.0  ...      2.288   33         1\n",
              "12         10         139.0          80.0  ...      1.441   57         0\n",
              "39          4         111.0          72.0  ...      1.390   56         1\n",
              "45          0         180.0          66.0  ...      1.893   25         1\n",
              "58          0         146.0          82.0  ...      1.781   44         0\n",
              "100         1         163.0          72.0  ...      1.222   33         1\n",
              "131         9         122.0          56.0  ...      1.114   33         1\n",
              "147         2         106.0          64.0  ...      1.400   34         0\n",
              "152         9         156.0          86.0  ...      1.189   42         1\n",
              "187         1         128.0          98.0  ...      1.321   33         1\n",
              "218         5          85.0          74.0  ...      1.224   32         1\n",
              "243         6         119.0          50.0  ...      1.318   33         1\n",
              "245         9         184.0          85.0  ...      1.213   49         1\n",
              "259        11         155.0          76.0  ...      1.353   51         1\n",
              "267         2         128.0          64.0  ...      1.101   24         0\n",
              "270        10         101.0          86.0  ...      1.136   38         1\n",
              "292         2         128.0          78.0  ...      1.224   31         1\n",
              "308         0         128.0          68.0  ...      1.391   25         1\n",
              "314         7         109.0          80.0  ...      1.127   43         1\n",
              "330         8         118.0          72.0  ...      1.476   46         0\n",
              "371         0         118.0          64.0  ...      1.731   21         0\n",
              "383         1          90.0          62.0  ...      1.268   25         0\n",
              "395         2         127.0          58.0  ...      1.600   25         0\n",
              "408         8         197.0          74.0  ...      1.191   39         1\n",
              "416         1          97.0          68.0  ...      1.095   22         0\n",
              "434         1          90.0          68.0  ...      1.138   36         0\n",
              "464        10         115.0          98.0  ...      1.022   34         0\n",
              "487         0         173.0          78.0  ...      1.159   58         0\n",
              "493         4         125.0          70.0  ...      1.144   45         1\n",
              "534         1          77.0          56.0  ...      1.251   24         0\n",
              "546         5         187.0          76.0  ...      1.034   53         1\n",
              "588         3         176.0          86.0  ...      1.154   52         1\n",
              "593         2          82.0          52.0  ...      1.699   25         0\n",
              "618         9         112.0          82.0  ...      1.282   50         1\n",
              "621         2          92.0          76.0  ...      1.698   28         0\n",
              "622         6         183.0          94.0  ...      1.461   45         0\n",
              "657         1         120.0          80.0  ...      1.162   41         0\n",
              "659         3          80.0          82.0  ...      1.292   27         1\n",
              "661         1         199.0          76.0  ...      1.394   22         1\n",
              "744        13         153.0          88.0  ...      1.174   39         0\n",
              "747         1          81.0          74.0  ...      1.096   32         0\n",
              "750         4         136.0          70.0  ...      1.182   22         1\n",
              "755         1         128.0          88.0  ...      1.057   37         1\n",
              "\n",
              "[43 rows x 9 columns]"
            ]
          },
          "metadata": {},
          "execution_count": 32
        }
      ]
    },
    {
      "cell_type": "code",
      "metadata": {
        "colab": {
          "base_uri": "https://localhost:8080/"
        },
        "id": "EK0A93TSuy-j",
        "outputId": "b7c70548-b637-42cb-c551-c14e17c9375e"
      },
      "source": [
        "data = data[(data.diab_pred < max_thresold1) & (data.diab_pred > min_thresold1)]\n",
        "data.shape"
      ],
      "execution_count": null,
      "outputs": [
        {
          "output_type": "execute_result",
          "data": {
            "text/plain": [
              "(669, 9)"
            ]
          },
          "metadata": {},
          "execution_count": 33
        }
      ]
    },
    {
      "cell_type": "code",
      "metadata": {
        "id": "CfYDzUe54Lme"
      },
      "source": [
        "# separating the data and labels\n",
        "X = data.drop(columns = ['diabetes'], axis=1)\n",
        "Y = data['diabetes']\n"
      ],
      "execution_count": null,
      "outputs": []
    },
    {
      "cell_type": "code",
      "metadata": {
        "id": "11l9BWYRF8lh",
        "colab": {
          "base_uri": "https://localhost:8080/"
        },
        "outputId": "fae4054d-bb3b-4122-d7ad-d8e2ed02304d"
      },
      "source": [
        "print(X)"
      ],
      "execution_count": null,
      "outputs": [
        {
          "output_type": "stream",
          "name": "stdout",
          "text": [
            "     num_preg  glucose_conc  diastolic_bp  ...   bmi  diab_pred  age\n",
            "0           6         148.0          72.0  ...  33.6      0.627   50\n",
            "1           1          85.0          66.0  ...  26.6      0.351   31\n",
            "2           8         183.0          64.0  ...  23.3      0.672   32\n",
            "3           1          89.0          66.0  ...  28.1      0.167   21\n",
            "5           5         116.0          74.0  ...  25.6      0.201   30\n",
            "..        ...           ...           ...  ...   ...        ...  ...\n",
            "763        10         101.0          76.0  ...  32.9      0.171   63\n",
            "764         2         122.0          70.0  ...  36.8      0.340   27\n",
            "765         5         121.0          72.0  ...  26.2      0.245   30\n",
            "766         1         126.0          60.0  ...  30.1      0.349   47\n",
            "767         1          93.0          70.0  ...  30.4      0.315   23\n",
            "\n",
            "[669 rows x 8 columns]\n"
          ]
        }
      ]
    },
    {
      "cell_type": "code",
      "metadata": {
        "id": "FxlGdG1QE0Xm",
        "colab": {
          "base_uri": "https://localhost:8080/"
        },
        "outputId": "055c1033-1046-4a41-fc0d-a504272a16f9"
      },
      "source": [
        "print(Y)"
      ],
      "execution_count": null,
      "outputs": [
        {
          "output_type": "stream",
          "name": "stdout",
          "text": [
            "0      1\n",
            "1      0\n",
            "2      1\n",
            "3      0\n",
            "5      0\n",
            "      ..\n",
            "763    0\n",
            "764    0\n",
            "765    0\n",
            "766    1\n",
            "767    0\n",
            "Name: diabetes, Length: 669, dtype: int64\n"
          ]
        }
      ]
    },
    {
      "cell_type": "markdown",
      "metadata": {
        "id": "-cw96hJt_GbU"
      },
      "source": [
        "**Data Standardization**"
      ]
    },
    {
      "cell_type": "code",
      "metadata": {
        "id": "kqLTUf45_HUb"
      },
      "source": [
        "scaler = StandardScaler()"
      ],
      "execution_count": null,
      "outputs": []
    },
    {
      "cell_type": "code",
      "metadata": {
        "id": "UG3Ispyg_Z0C",
        "colab": {
          "base_uri": "https://localhost:8080/"
        },
        "outputId": "96c881ea-f58d-4dd0-8390-b5daeaca561a"
      },
      "source": [
        "scaler.fit(X)"
      ],
      "execution_count": null,
      "outputs": [
        {
          "output_type": "execute_result",
          "data": {
            "text/plain": [
              "StandardScaler()"
            ]
          },
          "metadata": {},
          "execution_count": 38
        }
      ]
    },
    {
      "cell_type": "code",
      "metadata": {
        "id": "XdyfZ_PJ_di6"
      },
      "source": [
        "standardized_data = scaler.transform(X)"
      ],
      "execution_count": null,
      "outputs": []
    },
    {
      "cell_type": "code",
      "metadata": {
        "id": "ZLGrbBj__hio"
      },
      "source": [
        "X = standardized_data\n",
        "Y = data['diabetes']"
      ],
      "execution_count": null,
      "outputs": []
    },
    {
      "cell_type": "code",
      "metadata": {
        "colab": {
          "base_uri": "https://localhost:8080/"
        },
        "id": "wJAq21bw_rRi",
        "outputId": "ec7b6f6a-444c-4a07-fc61-98c1661360a3"
      },
      "source": [
        "print(X)\n",
        "print(Y)"
      ],
      "execution_count": null,
      "outputs": [
        {
          "output_type": "stream",
          "name": "stdout",
          "text": [
            "[[ 0.63535805  1.01089644 -0.02103723 ...  0.20850537  0.96845494\n",
            "   1.44470617]\n",
            " [-0.84463685 -1.17634775 -0.51575123 ... -0.82042736 -0.26030787\n",
            "  -0.17680907]\n",
            " [ 1.22735601  2.2260321  -0.6806559  ... -1.30549564  1.1687967\n",
            "  -0.09146617]\n",
            " ...\n",
            " [ 0.33935907  0.07350607 -0.02103723 ... -0.87922351 -0.73222402\n",
            "  -0.26215198]\n",
            " [-0.84463685  0.24709688 -1.01046523 ... -0.305961   -0.26921195\n",
            "   1.18867745]\n",
            " [-0.84463685 -0.89860245 -0.18594189 ... -0.26186388 -0.42058128\n",
            "  -0.85955234]]\n",
            "0      1\n",
            "1      0\n",
            "2      1\n",
            "3      0\n",
            "5      0\n",
            "      ..\n",
            "763    0\n",
            "764    0\n",
            "765    0\n",
            "766    1\n",
            "767    0\n",
            "Name: diabetes, Length: 669, dtype: int64\n"
          ]
        }
      ]
    },
    {
      "cell_type": "code",
      "metadata": {
        "colab": {
          "base_uri": "https://localhost:8080/",
          "height": 300
        },
        "id": "pXNAn3qlxQAi",
        "outputId": "c4277eb2-94e1-4282-bd1a-292ed3bf6d71"
      },
      "source": [
        "data.describe()"
      ],
      "execution_count": null,
      "outputs": [
        {
          "output_type": "execute_result",
          "data": {
            "text/html": [
              "<div>\n",
              "<style scoped>\n",
              "    .dataframe tbody tr th:only-of-type {\n",
              "        vertical-align: middle;\n",
              "    }\n",
              "\n",
              "    .dataframe tbody tr th {\n",
              "        vertical-align: top;\n",
              "    }\n",
              "\n",
              "    .dataframe thead th {\n",
              "        text-align: right;\n",
              "    }\n",
              "</style>\n",
              "<table border=\"1\" class=\"dataframe\">\n",
              "  <thead>\n",
              "    <tr style=\"text-align: right;\">\n",
              "      <th></th>\n",
              "      <th>num_preg</th>\n",
              "      <th>glucose_conc</th>\n",
              "      <th>diastolic_bp</th>\n",
              "      <th>thickness</th>\n",
              "      <th>insulin</th>\n",
              "      <th>bmi</th>\n",
              "      <th>diab_pred</th>\n",
              "      <th>age</th>\n",
              "      <th>diabetes</th>\n",
              "    </tr>\n",
              "  </thead>\n",
              "  <tbody>\n",
              "    <tr>\n",
              "      <th>count</th>\n",
              "      <td>669.000000</td>\n",
              "      <td>669.000000</td>\n",
              "      <td>669.000000</td>\n",
              "      <td>669.000000</td>\n",
              "      <td>669.000000</td>\n",
              "      <td>669.000000</td>\n",
              "      <td>669.000000</td>\n",
              "      <td>669.000000</td>\n",
              "      <td>669.000000</td>\n",
              "    </tr>\n",
              "    <tr>\n",
              "      <th>mean</th>\n",
              "      <td>3.853513</td>\n",
              "      <td>118.882777</td>\n",
              "      <td>72.255144</td>\n",
              "      <td>26.167336</td>\n",
              "      <td>99.634105</td>\n",
              "      <td>32.181503</td>\n",
              "      <td>0.409469</td>\n",
              "      <td>33.071749</td>\n",
              "      <td>0.324365</td>\n",
              "    </tr>\n",
              "    <tr>\n",
              "      <th>std</th>\n",
              "      <td>3.380918</td>\n",
              "      <td>28.824920</td>\n",
              "      <td>12.137294</td>\n",
              "      <td>9.455191</td>\n",
              "      <td>45.231838</td>\n",
              "      <td>6.808256</td>\n",
              "      <td>0.224784</td>\n",
              "      <td>11.726203</td>\n",
              "      <td>0.468487</td>\n",
              "    </tr>\n",
              "    <tr>\n",
              "      <th>min</th>\n",
              "      <td>0.000000</td>\n",
              "      <td>44.000000</td>\n",
              "      <td>24.000000</td>\n",
              "      <td>7.000000</td>\n",
              "      <td>25.000000</td>\n",
              "      <td>18.200000</td>\n",
              "      <td>0.084000</td>\n",
              "      <td>21.000000</td>\n",
              "      <td>0.000000</td>\n",
              "    </tr>\n",
              "    <tr>\n",
              "      <th>25%</th>\n",
              "      <td>1.000000</td>\n",
              "      <td>99.000000</td>\n",
              "      <td>64.000000</td>\n",
              "      <td>20.536458</td>\n",
              "      <td>79.799479</td>\n",
              "      <td>27.400000</td>\n",
              "      <td>0.236000</td>\n",
              "      <td>24.000000</td>\n",
              "      <td>0.000000</td>\n",
              "    </tr>\n",
              "    <tr>\n",
              "      <th>50%</th>\n",
              "      <td>3.000000</td>\n",
              "      <td>114.000000</td>\n",
              "      <td>72.000000</td>\n",
              "      <td>22.000000</td>\n",
              "      <td>79.799479</td>\n",
              "      <td>32.000000</td>\n",
              "      <td>0.343000</td>\n",
              "      <td>29.000000</td>\n",
              "      <td>0.000000</td>\n",
              "    </tr>\n",
              "    <tr>\n",
              "      <th>75%</th>\n",
              "      <td>6.000000</td>\n",
              "      <td>136.000000</td>\n",
              "      <td>80.000000</td>\n",
              "      <td>32.000000</td>\n",
              "      <td>106.000000</td>\n",
              "      <td>36.100000</td>\n",
              "      <td>0.561000</td>\n",
              "      <td>40.000000</td>\n",
              "      <td>1.000000</td>\n",
              "    </tr>\n",
              "    <tr>\n",
              "      <th>max</th>\n",
              "      <td>17.000000</td>\n",
              "      <td>198.000000</td>\n",
              "      <td>122.000000</td>\n",
              "      <td>99.000000</td>\n",
              "      <td>274.000000</td>\n",
              "      <td>67.100000</td>\n",
              "      <td>1.021000</td>\n",
              "      <td>81.000000</td>\n",
              "      <td>1.000000</td>\n",
              "    </tr>\n",
              "  </tbody>\n",
              "</table>\n",
              "</div>"
            ],
            "text/plain": [
              "         num_preg  glucose_conc  ...         age    diabetes\n",
              "count  669.000000    669.000000  ...  669.000000  669.000000\n",
              "mean     3.853513    118.882777  ...   33.071749    0.324365\n",
              "std      3.380918     28.824920  ...   11.726203    0.468487\n",
              "min      0.000000     44.000000  ...   21.000000    0.000000\n",
              "25%      1.000000     99.000000  ...   24.000000    0.000000\n",
              "50%      3.000000    114.000000  ...   29.000000    0.000000\n",
              "75%      6.000000    136.000000  ...   40.000000    1.000000\n",
              "max     17.000000    198.000000  ...   81.000000    1.000000\n",
              "\n",
              "[8 rows x 9 columns]"
            ]
          },
          "metadata": {},
          "execution_count": 42
        }
      ]
    },
    {
      "cell_type": "markdown",
      "metadata": {
        "id": "OqsOh-0VEc3D"
      },
      "source": [
        ""
      ]
    },
    {
      "cell_type": "markdown",
      "metadata": {
        "id": "z-9D3s-iEc9f"
      },
      "source": [
        "**Train Test Split**"
      ]
    },
    {
      "cell_type": "code",
      "metadata": {
        "id": "unmQhgZ3EfKY"
      },
      "source": [
        "X_train, X_test, Y_train, Y_test = train_test_split(X,Y, test_size = 0.1, stratify=Y,random_state=2)"
      ],
      "execution_count": null,
      "outputs": []
    },
    {
      "cell_type": "code",
      "metadata": {
        "colab": {
          "base_uri": "https://localhost:8080/"
        },
        "id": "NV-F0IR0ElEz",
        "outputId": "5d581254-52c1-4de8-ee40-14514a52e635"
      },
      "source": [
        "print(X.shape, X_train.shape, X_test.shape)"
      ],
      "execution_count": null,
      "outputs": [
        {
          "output_type": "stream",
          "name": "stdout",
          "text": [
            "(669, 8) (602, 8) (67, 8)\n"
          ]
        }
      ]
    },
    {
      "cell_type": "markdown",
      "metadata": {
        "id": "LCqAB4R8F92i"
      },
      "source": [
        "**Training The Model**"
      ]
    },
    {
      "cell_type": "markdown",
      "metadata": {
        "id": "1gBdKXEYyeRT"
      },
      "source": [
        "# Support Vector Machine"
      ]
    },
    {
      "cell_type": "code",
      "metadata": {
        "id": "7ljcOS0jFTkf"
      },
      "source": [
        "svc_scores = []\n",
        "kernels = ['linear', 'poly', 'rbf', 'sigmoid']\n",
        "for i in range(len(kernels)):\n",
        "    clf = SVC(kernel = kernels[i])\n",
        "    clf.fit(X_train, Y_train)\n",
        "    svc_scores.append(clf.score(X_test, Y_test))\n",
        "    "
      ],
      "execution_count": null,
      "outputs": []
    },
    {
      "cell_type": "code",
      "metadata": {
        "colab": {
          "base_uri": "https://localhost:8080/"
        },
        "id": "FwxyAyjrLcM1",
        "outputId": "a1b59949-340f-4209-d517-bdc500aa2dda"
      },
      "source": [
        "y_predict = clf.predict(X_test)\n",
        "print(y_predict)"
      ],
      "execution_count": null,
      "outputs": [
        {
          "output_type": "stream",
          "name": "stdout",
          "text": [
            "[0 0 0 0 0 0 0 0 1 0 0 1 0 0 1 0 0 0 0 0 0 1 0 0 0 0 0 1 0 0 0 0 1 1 0 0 0\n",
            " 0 0 0 0 0 0 0 0 0 1 0 0 1 0 0 0 0 0 1 0 1 0 0 0 0 0 0 0 0 1]\n"
          ]
        }
      ]
    },
    {
      "cell_type": "code",
      "metadata": {
        "colab": {
          "base_uri": "https://localhost:8080/",
          "height": 638
        },
        "id": "OYtZJgljFjvG",
        "outputId": "9ff95d7e-5700-48cb-f8c1-7d4a93ef1193"
      },
      "source": [
        "plt.figure(figsize = (15,10))\n",
        "from matplotlib.cm import rainbow\n",
        "colors = rainbow(np.linspace(0, 1, len(kernels)))\n",
        "plt.bar(kernels, svc_scores, color = colors)\n",
        "for i in range(len(kernels)):\n",
        "    plt.text(i, svc_scores[i], svc_scores[i])\n",
        "plt.xlabel('Kernels')\n",
        "plt.ylabel('Scores')\n",
        "plt.title('Support Vector Classifier scores for different kernels')"
      ],
      "execution_count": null,
      "outputs": [
        {
          "output_type": "execute_result",
          "data": {
            "text/plain": [
              "Text(0.5, 1.0, 'Support Vector Classifier scores for different kernels')"
            ]
          },
          "metadata": {},
          "execution_count": 47
        },
        {
          "output_type": "display_data",
          "data": {
            "image/png": "[encoded data removed]",
            "text/plain": [
              "<Figure size 1080x720 with 1 Axes>"
            ]
          },
          "metadata": {
            "needs_background": "light"
          }
        }
      ]
    },
    {
      "cell_type": "markdown",
      "metadata": {
        "id": "foiDjMAeBfK-"
      },
      "source": [
        "As can be seen from the plot above, the Linear Kernel performed the best for this dataset and achieved a score of 83.5%."
      ]
    },
    {
      "cell_type": "code",
      "metadata": {
        "colab": {
          "base_uri": "https://localhost:8080/",
          "height": 593
        },
        "id": "W0EmiBDW8IdR",
        "outputId": "8227c469-df0e-41a0-baf4-eb47090a0d7a"
      },
      "source": [
        "from sklearn.metrics import ConfusionMatrixDisplay\n",
        "class_names = data.diabetes\n",
        "titles_options = [\n",
        "    (\"Confusion matrix, without normalization\", None),\n",
        "    (\"Normalized confusion matrix\", \"true\"),\n",
        "]\n",
        "for title, normalize in titles_options:\n",
        "  disp = ConfusionMatrixDisplay.from_estimator(\n",
        "        clf,\n",
        "        X_test,\n",
        "        Y_test,\n",
        "        display_labels=class_names,\n",
        "        cmap=plt.cm.Blues,\n",
        "        normalize=normalize,\n",
        "    )\n",
        "print(title)\n",
        "print(disp.confusion_matrix)\n",
        "\n",
        "plt.show()"
      ],
      "execution_count": null,
      "outputs": [
        {
          "output_type": "stream",
          "name": "stdout",
          "text": [
            "Normalized confusion matrix\n",
            "[[0.93333333 0.06666667]\n",
            " [0.59090909 0.40909091]]\n"
          ]
        },
        {
          "output_type": "display_data",
          "data": {
            "image/png": "[encoded data removed]",
            "text/plain": [
              "<Figure size 432x288 with 2 Axes>"
            ]
          },
          "metadata": {
            "needs_background": "light"
          }
        },
        {
          "output_type": "display_data",
          "data": {
            "image/png": "[encoded data removed]",
            "text/plain": [
              "<Figure size 432x288 with 2 Axes>"
            ]
          },
          "metadata": {
            "needs_background": "light"
          }
        }
      ]
    },
    {
      "cell_type": "code",
      "metadata": {
        "colab": {
          "base_uri": "https://localhost:8080/"
        },
        "id": "ErqR4vow9nOt",
        "outputId": "5271aac2-51c1-4609-f82e-a58ecbfd4510"
      },
      "source": [
        "from sklearn.metrics import classification_report\n",
        "print(classification_report(Y_test, y_predict))"
      ],
      "execution_count": null,
      "outputs": [
        {
          "output_type": "stream",
          "name": "stdout",
          "text": [
            "              precision    recall  f1-score   support\n",
            "\n",
            "           0       0.76      0.93      0.84        45\n",
            "           1       0.75      0.41      0.53        22\n",
            "\n",
            "    accuracy                           0.76        67\n",
            "   macro avg       0.76      0.67      0.68        67\n",
            "weighted avg       0.76      0.76      0.74        67\n",
            "\n"
          ]
        }
      ]
    },
    {
      "cell_type": "markdown",
      "metadata": {
        "id": "8tToAQGwyTR2"
      },
      "source": [
        "# K-Nearest Neighbor"
      ]
    },
    {
      "cell_type": "code",
      "metadata": {
        "id": "YmZDbJ5_iCoR",
        "colab": {
          "base_uri": "https://localhost:8080/"
        },
        "outputId": "e7bfb857-2d82-4f7f-9e10-453d7da7336a"
      },
      "source": [
        "from sklearn.neighbors import KNeighborsClassifier\n",
        "knn_scores = []\n",
        "for k in range(1,21):\n",
        "    knn_classifier = KNeighborsClassifier(n_neighbors = k)\n",
        "    knn_classifier.fit(X_train, Y_train)\n",
        "    knn_scores.append(knn_classifier.score(X_test, Y_test))\n",
        "    ypredict = knn_classifier.predict(X_test)\n",
        "print(knn_scores)\n"
      ],
      "execution_count": null,
      "outputs": [
        {
          "output_type": "stream",
          "name": "stdout",
          "text": [
            "[0.7761194029850746, 0.7761194029850746, 0.7611940298507462, 0.7761194029850746, 0.8208955223880597, 0.7761194029850746, 0.7910447761194029, 0.7910447761194029, 0.7910447761194029, 0.8059701492537313, 0.7761194029850746, 0.7910447761194029, 0.7910447761194029, 0.7910447761194029, 0.8059701492537313, 0.7761194029850746, 0.7761194029850746, 0.7611940298507462, 0.7761194029850746, 0.7611940298507462]\n"
          ]
        }
      ]
    },
    {
      "cell_type": "code",
      "metadata": {
        "colab": {
          "base_uri": "https://localhost:8080/",
          "height": 638
        },
        "id": "ZKKt6A1WiPzF",
        "outputId": "ca32be81-7378-4f34-a682-285f086a34f1"
      },
      "source": [
        "plt.figure(figsize = (15,10))\n",
        "plt.plot([k for k in range(1, 21)], knn_scores, color = 'red')\n",
        "for i in range(1,21):\n",
        "    plt.text(i, knn_scores[i-1], (i, knn_scores[i-1]))\n",
        "plt.xticks([i for i in range(1, 21)])\n",
        "plt.xlabel('Number of Neighbors (K)')\n",
        "plt.ylabel('Scores')\n",
        "plt.title('K Neighbors Classifier scores for different K values')\n"
      ],
      "execution_count": null,
      "outputs": [
        {
          "output_type": "execute_result",
          "data": {
            "text/plain": [
              "Text(0.5, 1.0, 'K Neighbors Classifier scores for different K values')"
            ]
          },
          "metadata": {},
          "execution_count": 51
        },
        {
          "output_type": "display_data",
          "data": {
            "image/png": "[encoded data removed]",
            "text/plain": [
              "<Figure size 1080x720 with 1 Axes>"
            ]
          },
          "metadata": {
            "needs_background": "light"
          }
        }
      ]
    },
    {
      "cell_type": "markdown",
      "metadata": {
        "id": "QIKtpuSpyCSG"
      },
      "source": [
        "**We are getting accuracy of 82.08% when the value of K is 5**"
      ]
    },
    {
      "cell_type": "code",
      "metadata": {
        "colab": {
          "base_uri": "https://localhost:8080/",
          "height": 593
        },
        "id": "ec2ksfhAxOh9",
        "outputId": "7eb03d7f-a718-47a5-c54d-f7f21833cd68"
      },
      "source": [
        "from sklearn.metrics import ConfusionMatrixDisplay\n",
        "class_names = data.diabetes\n",
        "titles_options = [\n",
        "    (\"Confusion matrix, without normalization\", None),\n",
        "    (\"Normalized confusion matrix\", \"true\"),\n",
        "]\n",
        "for title, normalize in titles_options:\n",
        "  disp = ConfusionMatrixDisplay.from_estimator(\n",
        "        knn_classifier,\n",
        "        X_test,\n",
        "        Y_test,\n",
        "        display_labels=class_names,\n",
        "        cmap=plt.cm.Blues,\n",
        "        normalize=normalize,\n",
        "    )\n",
        "print(title)\n",
        "print(disp.confusion_matrix)\n",
        "\n",
        "plt.show()"
      ],
      "execution_count": null,
      "outputs": [
        {
          "output_type": "stream",
          "name": "stdout",
          "text": [
            "Normalized confusion matrix\n",
            "[[0.97777778 0.02222222]\n",
            " [0.68181818 0.31818182]]\n"
          ]
        },
        {
          "output_type": "display_data",
          "data": {
            "image/png": "[encoded data removed]",
            "text/plain": [
              "<Figure size 432x288 with 2 Axes>"
            ]
          },
          "metadata": {
            "needs_background": "light"
          }
        },
        {
          "output_type": "display_data",
          "data": {
            "image/png": "[encoded data removed]",
            "text/plain": [
              "<Figure size 432x288 with 2 Axes>"
            ]
          },
          "metadata": {
            "needs_background": "light"
          }
        }
      ]
    },
    {
      "cell_type": "code",
      "metadata": {
        "colab": {
          "base_uri": "https://localhost:8080/"
        },
        "id": "5uf6KDX_xfXQ",
        "outputId": "e47394e1-6669-4be1-b717-f665da0fd7c0"
      },
      "source": [
        "from sklearn.metrics import classification_report\n",
        "print(classification_report(Y_test, ypredict))"
      ],
      "execution_count": null,
      "outputs": [
        {
          "output_type": "stream",
          "name": "stdout",
          "text": [
            "              precision    recall  f1-score   support\n",
            "\n",
            "           0       0.75      0.98      0.85        45\n",
            "           1       0.88      0.32      0.47        22\n",
            "\n",
            "    accuracy                           0.76        67\n",
            "   macro avg       0.81      0.65      0.66        67\n",
            "weighted avg       0.79      0.76      0.72        67\n",
            "\n"
          ]
        }
      ]
    },
    {
      "cell_type": "code",
      "metadata": {
        "id": "nHESK-BcIh4A"
      },
      "source": [
        "# filename = 'TC127_Seminar_diabetes.pkl'\n",
        "# pickle.dump(svc_classifier, open(filename, 'wb'))"
      ],
      "execution_count": null,
      "outputs": []
    },
    {
      "cell_type": "code",
      "metadata": {
        "id": "IoJYiGISCu_0"
      },
      "source": [
        "pickle.dump(clf, open(\"TC127_DiabetesPrediction.sav\", \"wb\"))\n",
        "pickle.dump(scaler, open(\"scaler1.sav\", \"wb\"))"
      ],
      "execution_count": null,
      "outputs": []
    }
  ]
}